{
 "cells": [
  {
   "cell_type": "markdown",
   "metadata": {},
   "source": [
    "### Task 1"
   ]
  },
  {
   "cell_type": "code",
   "execution_count": 98,
   "metadata": {
    "colab": {},
    "colab_type": "code",
    "id": "dY1eNKcofX-P"
   },
   "outputs": [],
   "source": [
    "import numpy as np\n",
    "import pandas as pd\n",
    "import matplotlib.pyplot as plt"
   ]
  },
  {
   "cell_type": "code",
   "execution_count": 99,
   "metadata": {
    "colab": {},
    "colab_type": "code",
    "id": "nxTB2yZ5f9Kc"
   },
   "outputs": [],
   "source": [
    "df2 = pd.read_excel(r'C:\\Users\\HP\\Desktop\\CV, P.Statement and others\\Dataset\\Week2_challenge_data_source.xlsx')"
   ]
  },
  {
   "cell_type": "code",
   "execution_count": 100,
   "metadata": {
    "colab": {
     "base_uri": "https://localhost:8080/",
     "height": 534
    },
    "colab_type": "code",
    "executionInfo": {
     "elapsed": 1081,
     "status": "ok",
     "timestamp": 1596022128647,
     "user": {
      "displayName": "Rofiah Adeshina",
      "photoUrl": "",
      "userId": "16819728728819546989"
     },
     "user_tz": -60
    },
    "id": "UbJbBnZEgKWE",
    "outputId": "e783c403-6160-4130-a762-7b3a304641a2"
   },
   "outputs": [
    {
     "data": {
      "text/html": [
       "<div>\n",
       "<style scoped>\n",
       "    .dataframe tbody tr th:only-of-type {\n",
       "        vertical-align: middle;\n",
       "    }\n",
       "\n",
       "    .dataframe tbody tr th {\n",
       "        vertical-align: top;\n",
       "    }\n",
       "\n",
       "    .dataframe thead th {\n",
       "        text-align: right;\n",
       "    }\n",
       "</style>\n",
       "<table border=\"1\" class=\"dataframe\">\n",
       "  <thead>\n",
       "    <tr style=\"text-align: right;\">\n",
       "      <th></th>\n",
       "      <th>Bearer Id</th>\n",
       "      <th>Start</th>\n",
       "      <th>Start ms</th>\n",
       "      <th>End</th>\n",
       "      <th>End ms</th>\n",
       "      <th>Dur. (ms)</th>\n",
       "      <th>IMSI</th>\n",
       "      <th>MSISDN/Number</th>\n",
       "      <th>IMEI</th>\n",
       "      <th>Last Location Name</th>\n",
       "      <th>...</th>\n",
       "      <th>Youtube DL (Bytes)</th>\n",
       "      <th>Youtube UL (Bytes)</th>\n",
       "      <th>Netflix DL (Bytes)</th>\n",
       "      <th>Netflix UL (Bytes)</th>\n",
       "      <th>Gaming DL (Bytes)</th>\n",
       "      <th>Gaming UL (Bytes)</th>\n",
       "      <th>Other DL (Bytes)</th>\n",
       "      <th>Other UL (Bytes)</th>\n",
       "      <th>Total UL (Bytes)</th>\n",
       "      <th>Total DL (Bytes)</th>\n",
       "    </tr>\n",
       "  </thead>\n",
       "  <tbody>\n",
       "    <tr>\n",
       "      <th>0</th>\n",
       "      <td>13114483460844900352</td>\n",
       "      <td>2019-04-04 12:01:18</td>\n",
       "      <td>770.0</td>\n",
       "      <td>2019-04-25 14:35:31</td>\n",
       "      <td>662.0</td>\n",
       "      <td>1823652.0</td>\n",
       "      <td>2.082014e+14</td>\n",
       "      <td>3.366496e+10</td>\n",
       "      <td>3.552121e+13</td>\n",
       "      <td>9164566995485190</td>\n",
       "      <td>...</td>\n",
       "      <td>15854611.0</td>\n",
       "      <td>2501332.0</td>\n",
       "      <td>8198936.0</td>\n",
       "      <td>9656251.0</td>\n",
       "      <td>278082303.0</td>\n",
       "      <td>14344150.0</td>\n",
       "      <td>171744450.0</td>\n",
       "      <td>8814393.0</td>\n",
       "      <td>36749741.0</td>\n",
       "      <td>308879636.0</td>\n",
       "    </tr>\n",
       "    <tr>\n",
       "      <th>1</th>\n",
       "      <td>13114483482878900224</td>\n",
       "      <td>2019-04-09 13:04:04</td>\n",
       "      <td>235.0</td>\n",
       "      <td>2019-04-25 08:15:48</td>\n",
       "      <td>606.0</td>\n",
       "      <td>1365104.0</td>\n",
       "      <td>2.082019e+14</td>\n",
       "      <td>3.368185e+10</td>\n",
       "      <td>3.579401e+13</td>\n",
       "      <td>L77566A</td>\n",
       "      <td>...</td>\n",
       "      <td>20247395.0</td>\n",
       "      <td>19111729.0</td>\n",
       "      <td>18338413.0</td>\n",
       "      <td>17227132.0</td>\n",
       "      <td>608750074.0</td>\n",
       "      <td>1170709.0</td>\n",
       "      <td>526904238.0</td>\n",
       "      <td>15055145.0</td>\n",
       "      <td>53800391.0</td>\n",
       "      <td>653384965.0</td>\n",
       "    </tr>\n",
       "    <tr>\n",
       "      <th>2</th>\n",
       "      <td>13114483484080500736</td>\n",
       "      <td>2019-04-09 17:42:11</td>\n",
       "      <td>1.0</td>\n",
       "      <td>2019-04-25 11:58:13</td>\n",
       "      <td>652.0</td>\n",
       "      <td>1361762.0</td>\n",
       "      <td>2.082003e+14</td>\n",
       "      <td>3.376063e+10</td>\n",
       "      <td>3.528151e+13</td>\n",
       "      <td>D42335A</td>\n",
       "      <td>...</td>\n",
       "      <td>19725661.0</td>\n",
       "      <td>14699576.0</td>\n",
       "      <td>17587794.0</td>\n",
       "      <td>6163408.0</td>\n",
       "      <td>229584621.0</td>\n",
       "      <td>395630.0</td>\n",
       "      <td>410692588.0</td>\n",
       "      <td>4215763.0</td>\n",
       "      <td>27883638.0</td>\n",
       "      <td>279807335.0</td>\n",
       "    </tr>\n",
       "    <tr>\n",
       "      <th>3</th>\n",
       "      <td>13114483485442799616</td>\n",
       "      <td>2019-04-10 00:31:25</td>\n",
       "      <td>486.0</td>\n",
       "      <td>2019-04-25 07:36:35</td>\n",
       "      <td>171.0</td>\n",
       "      <td>1321509.0</td>\n",
       "      <td>2.082014e+14</td>\n",
       "      <td>3.375034e+10</td>\n",
       "      <td>3.535661e+13</td>\n",
       "      <td>T21824A</td>\n",
       "      <td>...</td>\n",
       "      <td>21388122.0</td>\n",
       "      <td>15146643.0</td>\n",
       "      <td>13994646.0</td>\n",
       "      <td>1097942.0</td>\n",
       "      <td>799538153.0</td>\n",
       "      <td>10849722.0</td>\n",
       "      <td>749039933.0</td>\n",
       "      <td>12797283.0</td>\n",
       "      <td>43324218.0</td>\n",
       "      <td>846028530.0</td>\n",
       "    </tr>\n",
       "    <tr>\n",
       "      <th>4</th>\n",
       "      <td>13114483499480700928</td>\n",
       "      <td>2019-04-12 20:10:23</td>\n",
       "      <td>565.0</td>\n",
       "      <td>2019-04-25 10:40:32</td>\n",
       "      <td>954.0</td>\n",
       "      <td>1089009.0</td>\n",
       "      <td>2.082014e+14</td>\n",
       "      <td>3.369980e+10</td>\n",
       "      <td>3.540701e+13</td>\n",
       "      <td>D88865A</td>\n",
       "      <td>...</td>\n",
       "      <td>15259380.0</td>\n",
       "      <td>18962873.0</td>\n",
       "      <td>17124581.0</td>\n",
       "      <td>415218.0</td>\n",
       "      <td>527707248.0</td>\n",
       "      <td>3529801.0</td>\n",
       "      <td>550709500.0</td>\n",
       "      <td>13910322.0</td>\n",
       "      <td>38542814.0</td>\n",
       "      <td>569138589.0</td>\n",
       "    </tr>\n",
       "  </tbody>\n",
       "</table>\n",
       "<p>5 rows × 55 columns</p>\n",
       "</div>"
      ],
      "text/plain": [
       "              Bearer Id               Start  Start ms                 End  \\\n",
       "0  13114483460844900352 2019-04-04 12:01:18     770.0 2019-04-25 14:35:31   \n",
       "1  13114483482878900224 2019-04-09 13:04:04     235.0 2019-04-25 08:15:48   \n",
       "2  13114483484080500736 2019-04-09 17:42:11       1.0 2019-04-25 11:58:13   \n",
       "3  13114483485442799616 2019-04-10 00:31:25     486.0 2019-04-25 07:36:35   \n",
       "4  13114483499480700928 2019-04-12 20:10:23     565.0 2019-04-25 10:40:32   \n",
       "\n",
       "   End ms  Dur. (ms)          IMSI  MSISDN/Number          IMEI  \\\n",
       "0   662.0  1823652.0  2.082014e+14   3.366496e+10  3.552121e+13   \n",
       "1   606.0  1365104.0  2.082019e+14   3.368185e+10  3.579401e+13   \n",
       "2   652.0  1361762.0  2.082003e+14   3.376063e+10  3.528151e+13   \n",
       "3   171.0  1321509.0  2.082014e+14   3.375034e+10  3.535661e+13   \n",
       "4   954.0  1089009.0  2.082014e+14   3.369980e+10  3.540701e+13   \n",
       "\n",
       "  Last Location Name  ...  Youtube DL (Bytes)  Youtube UL (Bytes)  \\\n",
       "0   9164566995485190  ...          15854611.0           2501332.0   \n",
       "1            L77566A  ...          20247395.0          19111729.0   \n",
       "2            D42335A  ...          19725661.0          14699576.0   \n",
       "3            T21824A  ...          21388122.0          15146643.0   \n",
       "4            D88865A  ...          15259380.0          18962873.0   \n",
       "\n",
       "   Netflix DL (Bytes)  Netflix UL (Bytes)  Gaming DL (Bytes)  \\\n",
       "0           8198936.0           9656251.0        278082303.0   \n",
       "1          18338413.0          17227132.0        608750074.0   \n",
       "2          17587794.0           6163408.0        229584621.0   \n",
       "3          13994646.0           1097942.0        799538153.0   \n",
       "4          17124581.0            415218.0        527707248.0   \n",
       "\n",
       "   Gaming UL (Bytes)  Other DL (Bytes)  Other UL (Bytes)  Total UL (Bytes)  \\\n",
       "0         14344150.0       171744450.0         8814393.0        36749741.0   \n",
       "1          1170709.0       526904238.0        15055145.0        53800391.0   \n",
       "2           395630.0       410692588.0         4215763.0        27883638.0   \n",
       "3         10849722.0       749039933.0        12797283.0        43324218.0   \n",
       "4          3529801.0       550709500.0        13910322.0        38542814.0   \n",
       "\n",
       "   Total DL (Bytes)  \n",
       "0       308879636.0  \n",
       "1       653384965.0  \n",
       "2       279807335.0  \n",
       "3       846028530.0  \n",
       "4       569138589.0  \n",
       "\n",
       "[5 rows x 55 columns]"
      ]
     },
     "execution_count": 100,
     "metadata": {},
     "output_type": "execute_result"
    }
   ],
   "source": [
    "df2.head()"
   ]
  },
  {
   "cell_type": "code",
   "execution_count": null,
   "metadata": {
    "colab": {
     "base_uri": "https://localhost:8080/",
     "height": 34
    },
    "colab_type": "code",
    "executionInfo": {
     "elapsed": 932,
     "status": "ok",
     "timestamp": 1596022157911,
     "user": {
      "displayName": "Rofiah Adeshina",
      "photoUrl": "",
      "userId": "16819728728819546989"
     },
     "user_tz": -60
    },
    "id": "h_geMiVlUBxw",
    "outputId": "c5c8e6b4-6027-4738-be64-c6b8ce5cded2"
   },
   "outputs": [
    {
     "data": {
      "text/plain": [
       "(150001, 55)"
      ]
     },
     "execution_count": 8,
     "metadata": {
      "tags": []
     },
     "output_type": "execute_result"
    }
   ],
   "source": [
    "df2.shape"
   ]
  },
  {
   "cell_type": "code",
   "execution_count": 70,
   "metadata": {
    "colab": {
     "base_uri": "https://localhost:8080/",
     "height": 1000
    },
    "colab_type": "code",
    "executionInfo": {
     "elapsed": 1172,
     "status": "ok",
     "timestamp": 1596022163701,
     "user": {
      "displayName": "Rofiah Adeshina",
      "photoUrl": "",
      "userId": "16819728728819546989"
     },
     "user_tz": -60
    },
    "id": "XlgCbvTwgPWA",
    "outputId": "980f6453-3837-4f04-8f85-f6cc5730601a"
   },
   "outputs": [],
   "source": [
    "#df2.info()"
   ]
  },
  {
   "cell_type": "code",
   "execution_count": 71,
   "metadata": {
    "colab": {
     "base_uri": "https://localhost:8080/",
     "height": 988
    },
    "colab_type": "code",
    "executionInfo": {
     "elapsed": 1132,
     "status": "ok",
     "timestamp": 1596023420145,
     "user": {
      "displayName": "Rofiah Adeshina",
      "photoUrl": "",
      "userId": "16819728728819546989"
     },
     "user_tz": -60
    },
    "id": "oYVvVCG-WYWA",
    "outputId": "66b21b1a-f1ed-4880-82cf-75f216c9508e"
   },
   "outputs": [],
   "source": [
    "#df2.dtypes"
   ]
  },
  {
   "cell_type": "code",
   "execution_count": null,
   "metadata": {
    "colab": {
     "base_uri": "https://localhost:8080/",
     "height": 225
    },
    "colab_type": "code",
    "executionInfo": {
     "elapsed": 1073,
     "status": "ok",
     "timestamp": 1595956726407,
     "user": {
      "displayName": "Rofiah Adeshina",
      "photoUrl": "",
      "userId": "16819728728819546989"
     },
     "user_tz": -60
    },
    "id": "_G3KUesigSGl",
    "outputId": "3d3d673c-e6b9-4483-b764-9ab16b0a5d30"
   },
   "outputs": [
    {
     "data": {
      "text/plain": [
       "Apple                                            59565\n",
       "Samsung                                          40839\n",
       "Huawei                                           34423\n",
       "undefined                                         8987\n",
       "Sony Mobile Communications Ab                      980\n",
       "                                                 ...  \n",
       "Shenzhen Sprocomm Technologies Co Ltd                1\n",
       "Adar                                                 1\n",
       "Shenzhen City Ramos Digital Technology Co Ltd        1\n",
       "Shenzhen New Chabridge Communication Co Ltd          1\n",
       "Shenzhen Jsr Technology Co Ltd                       1\n",
       "Name: Handset Manufacturer, Length: 170, dtype: int64"
      ]
     },
     "execution_count": 112,
     "metadata": {
      "tags": []
     },
     "output_type": "execute_result"
    }
   ],
   "source": [
    "df2[\"Handset Manufacturer\"].value_counts()"
   ]
  },
  {
   "cell_type": "code",
   "execution_count": null,
   "metadata": {
    "colab": {
     "base_uri": "https://localhost:8080/",
     "height": 225
    },
    "colab_type": "code",
    "executionInfo": {
     "elapsed": 1894,
     "status": "ok",
     "timestamp": 1595956733135,
     "user": {
      "displayName": "Rofiah Adeshina",
      "photoUrl": "",
      "userId": "16819728728819546989"
     },
     "user_tz": -60
    },
    "id": "PwvKAHIQkqkD",
    "outputId": "b663e6c8-9148-4773-fb40-9f9654b8e56c"
   },
   "outputs": [
    {
     "data": {
      "text/plain": [
       "Huawei B528S-23A                           19752\n",
       "Apple iPhone 6S (A1688)                     9419\n",
       "Apple iPhone 6 (A1586)                      9023\n",
       "undefined                                   8987\n",
       "Apple iPhone 7 (A1778)                      6326\n",
       "                                           ...  \n",
       "Gemalto M2M Gmbh Cinterion Ehs5-E              1\n",
       "Tct Mobile Suzho. Alcatel One Touch 997        1\n",
       "Shenzhen Sprocom. Fly Iq4490                   1\n",
       "Sony Mobile Comm. Sony C5303 -Xperia Sp        1\n",
       "Htc 2Q6E100                                    1\n",
       "Name: Handset Type, Length: 1396, dtype: int64"
      ]
     },
     "execution_count": 113,
     "metadata": {
      "tags": []
     },
     "output_type": "execute_result"
    }
   ],
   "source": [
    "df2[\"Handset Type\"].value_counts()"
   ]
  },
  {
   "cell_type": "code",
   "execution_count": 101,
   "metadata": {
    "colab": {
     "base_uri": "https://localhost:8080/",
     "height": 34
    },
    "colab_type": "code",
    "executionInfo": {
     "elapsed": 1032,
     "status": "ok",
     "timestamp": 1596023844254,
     "user": {
      "displayName": "Rofiah Adeshina",
      "photoUrl": "",
      "userId": "16819728728819546989"
     },
     "user_tz": -60
    },
    "id": "n70DIZDRbpNv",
    "outputId": "0aeba9de-b2c0-43a3-f446-61c26c0801bf"
   },
   "outputs": [
    {
     "data": {
      "text/plain": [
       "1066"
      ]
     },
     "execution_count": 101,
     "metadata": {},
     "output_type": "execute_result"
    }
   ],
   "source": [
    "df2['MSISDN/Number'].isnull().sum()"
   ]
  },
  {
   "cell_type": "code",
   "execution_count": 102,
   "metadata": {
    "colab": {},
    "colab_type": "code",
    "id": "G1EeDNa7kyGA"
   },
   "outputs": [],
   "source": [
    "df2.dropna(subset=['MSISDN/Number'], inplace=True)"
   ]
  },
  {
   "cell_type": "code",
   "execution_count": 103,
   "metadata": {
    "colab": {
     "base_uri": "https://localhost:8080/",
     "height": 34
    },
    "colab_type": "code",
    "executionInfo": {
     "elapsed": 989,
     "status": "ok",
     "timestamp": 1596024392089,
     "user": {
      "displayName": "Rofiah Adeshina",
      "photoUrl": "",
      "userId": "16819728728819546989"
     },
     "user_tz": -60
    },
    "id": "alaa0yLjddWF",
    "outputId": "35b4790f-8b88-48ee-da02-e4c38fbbd816"
   },
   "outputs": [
    {
     "data": {
      "text/plain": [
       "(148935,)"
      ]
     },
     "execution_count": 103,
     "metadata": {},
     "output_type": "execute_result"
    }
   ],
   "source": [
    "df2['MSISDN/Number'].shape"
   ]
  },
  {
   "cell_type": "code",
   "execution_count": 104,
   "metadata": {
    "colab": {
     "base_uri": "https://localhost:8080/",
     "height": 277
    },
    "colab_type": "code",
    "executionInfo": {
     "elapsed": 748,
     "status": "ok",
     "timestamp": 1596026693777,
     "user": {
      "displayName": "Rofiah Adeshina",
      "photoUrl": "",
      "userId": "16819728728819546989"
     },
     "user_tz": -60
    },
    "id": "5Jku2-VslWnt",
    "outputId": "7d25f83a-2dae-4dc8-e790-54b11234e7a4"
   },
   "outputs": [
    {
     "name": "stdout",
     "output_type": "stream",
     "text": [
      "               Bearer Id\n",
      "MSISDN/Number           \n",
      "3.362632e+10          18\n",
      "3.362578e+10          17\n",
      "3.361489e+10          17\n",
      "3.365973e+10          16\n",
      "3.376054e+10          15\n",
      "3.367588e+10          15\n",
      "3.366716e+10          13\n",
      "3.362708e+10          12\n",
      "3.360452e+10          12\n",
      "3.376041e+10          12\n"
     ]
    }
   ],
   "source": [
    "#Task 1.1\n",
    "#Number of xDR session\n",
    "Number_of_xDR_session = df2.groupby([\"MSISDN/Number\"]).agg({'Bearer Id':'count'})\n",
    "print(Number_of_xDR_session.sort_values('Bearer Id', ascending=False).head(10))\n"
   ]
  },
  {
   "cell_type": "code",
   "execution_count": 263,
   "metadata": {
    "colab": {
     "base_uri": "https://localhost:8080/",
     "height": 282
    },
    "colab_type": "code",
    "executionInfo": {
     "elapsed": 1040,
     "status": "ok",
     "timestamp": 1596024524633,
     "user": {
      "displayName": "Rofiah Adeshina",
      "photoUrl": "",
      "userId": "16819728728819546989"
     },
     "user_tz": -60
    },
    "id": "qW5Gn77dHEKl",
    "outputId": "6c5a2beb-5983-4323-8804-be531fc56cb7"
   },
   "outputs": [
    {
     "data": {
      "image/png": "[encoded data removed]",
      "text/plain": [
       "<Figure size 432x288 with 1 Axes>"
      ]
     },
     "metadata": {
      "needs_background": "light"
     },
     "output_type": "display_data"
    }
   ],
   "source": [
    "Number_of_xDR_session.boxplot()\n",
    "plt.ylabel('Frequency of session')\n",
    "plt.title('Number of XDR Session')\n",
    "plt.show()"
   ]
  },
  {
   "cell_type": "code",
   "execution_count": 105,
   "metadata": {
    "colab": {
     "base_uri": "https://localhost:8080/",
     "height": 34
    },
    "colab_type": "code",
    "executionInfo": {
     "elapsed": 933,
     "status": "ok",
     "timestamp": 1596024602919,
     "user": {
      "displayName": "Rofiah Adeshina",
      "photoUrl": "",
      "userId": "16819728728819546989"
     },
     "user_tz": -60
    },
    "id": "RoV4jcMPegL9",
    "outputId": "bb3a0210-88fa-43fa-8d9a-ce2d0350f1f6"
   },
   "outputs": [
    {
     "data": {
      "text/plain": [
       "0"
      ]
     },
     "execution_count": 105,
     "metadata": {},
     "output_type": "execute_result"
    }
   ],
   "source": [
    "df2[\"Dur. (ms).1\"].isnull().sum()"
   ]
  },
  {
   "cell_type": "code",
   "execution_count": 267,
   "metadata": {
    "colab": {
     "base_uri": "https://localhost:8080/",
     "height": 294
    },
    "colab_type": "code",
    "executionInfo": {
     "elapsed": 768,
     "status": "ok",
     "timestamp": 1596024684730,
     "user": {
      "displayName": "Rofiah Adeshina",
      "photoUrl": "",
      "userId": "16819728728819546989"
     },
     "user_tz": -60
    },
    "id": "u0LRO9anmkmr",
    "outputId": "3093c8e8-82b5-4e14-eb9c-9d7d21a5b1eb"
   },
   "outputs": [
    {
     "name": "stdout",
     "output_type": "stream",
     "text": [
      "0\n",
      "                Dur. (ms).1\n",
      "MSISDN/Number              \n",
      "3.362578e+10   1.855376e+10\n",
      "3.361489e+10   9.966906e+09\n",
      "3.376054e+10   9.279442e+09\n",
      "3.362632e+10   8.791937e+09\n",
      "3.366716e+10   8.744922e+09\n",
      "3.366284e+10   6.614274e+09\n",
      "3.366469e+10   6.288736e+09\n",
      "3.360313e+10   6.287767e+09\n",
      "3.366746e+10   5.649885e+09\n",
      "3.376041e+10   5.321674e+09\n"
     ]
    },
    {
     "data": {
      "image/png": "[encoded data removed]",
      "text/plain": [
       "<Figure size 432x288 with 1 Axes>"
      ]
     },
     "metadata": {},
     "output_type": "display_data"
    }
   ],
   "source": [
    "#session duration\n",
    "print(df2['Dur. (ms).1'].isnull().sum())\n",
    "session_duration = df2.groupby([\"MSISDN/Number\"]).agg({'Dur. (ms).1':'sum'})\n",
    "print(session_duration.sort_values('Dur. (ms).1', ascending=False).head(10))\n",
    "\n",
    "#univariante graphical plot\n",
    "session_duration.boxplot()\n",
    "plt.ylabel('Session Duration')\n",
    "plt.title('Session Duration Distribution')\n",
    "plt.show()"
   ]
  },
  {
   "cell_type": "code",
   "execution_count": 107,
   "metadata": {
    "colab": {
     "base_uri": "https://localhost:8080/",
     "height": 34
    },
    "colab_type": "code",
    "executionInfo": {
     "elapsed": 1028,
     "status": "ok",
     "timestamp": 1596024742051,
     "user": {
      "displayName": "Rofiah Adeshina",
      "photoUrl": "",
      "userId": "16819728728819546989"
     },
     "user_tz": -60
    },
    "id": "vZ4oH_r3nRj-",
    "outputId": "0f7a848e-7c5f-4691-9130-37d9a67835de"
   },
   "outputs": [
    {
     "data": {
      "text/plain": [
       "(148935,)"
      ]
     },
     "execution_count": 107,
     "metadata": {},
     "output_type": "execute_result"
    }
   ],
   "source": [
    "df2['total DL_UL data'] = df2['Total UL (Bytes)']+df2[\"Total DL (Bytes)\"]\n",
    "df2[\"total_social\"]=df2[\"Social Media DL (Bytes)\"]+df2[\"Social Media UL (Bytes)\"]\n",
    "df2[\"total_netflix\"]=df2['Netflix DL (Bytes)']+df2['Netflix UL (Bytes)']\n",
    "df2[\"total_email\"]=df2['Email DL (Bytes)']+df2['Email UL (Bytes)']\n",
    "df2['total_gaming']=df2['Gaming DL (Bytes)']+df2['Gaming UL (Bytes)']\n",
    "df2['total_google']=df2['Google DL (Bytes)']+df2['Google UL (Bytes)']\n",
    "df2['total_youtube']=df2['Youtube DL (Bytes)']+df2['Youtube UL (Bytes)']\n",
    "df2['total DL_UL data'].shape"
   ]
  },
  {
   "cell_type": "code",
   "execution_count": 108,
   "metadata": {
    "colab": {
     "base_uri": "https://localhost:8080/",
     "height": 294
    },
    "colab_type": "code",
    "executionInfo": {
     "elapsed": 981,
     "status": "ok",
     "timestamp": 1596024819207,
     "user": {
      "displayName": "Rofiah Adeshina",
      "photoUrl": "",
      "userId": "16819728728819546989"
     },
     "user_tz": -60
    },
    "id": "0kjATx2Don1j",
    "outputId": "883b8236-636c-4d71-bf3f-b5d21dc498fe"
   },
   "outputs": [
    {
     "name": "stdout",
     "output_type": "stream",
     "text": [
      "               total DL_UL data  total_email  total_gaming  total_google  \\\n",
      "MSISDN/Number                                                              \n",
      "3.360100e+10       8.786906e+08    1331362.0  8.124587e+08     4389005.0   \n",
      "3.360100e+10       1.568596e+08    3307781.0  1.197501e+08     5334863.0   \n",
      "3.360100e+10       5.959665e+08    3205380.0  5.388277e+08     3443126.0   \n",
      "3.360101e+10       4.223207e+08    2284670.0  3.911261e+08     9678493.0   \n",
      "3.360101e+10       1.457411e+09    3305469.0  1.314798e+09    18499616.0   \n",
      "\n",
      "               total_netflix  total_social  total_youtube  \n",
      "MSISDN/Number                                              \n",
      "3.360100e+10      27180981.0     2232135.0     21624548.0  \n",
      "3.360100e+10      11221763.0     2660565.0     12432223.0  \n",
      "3.360100e+10      19353900.0     3195623.0     21333570.0  \n",
      "3.360101e+10       1942092.0      280294.0      6977321.0  \n",
      "3.360101e+10      49201724.0     2912542.0     41533002.0  \n"
     ]
    },
    {
     "data": {
      "text/plain": [
       "(106856, 7)"
      ]
     },
     "execution_count": 108,
     "metadata": {},
     "output_type": "execute_result"
    }
   ],
   "source": [
    "d_f=df2.pivot_table(index=\"MSISDN/Number\", values=['total_gaming','total_google','total_youtube','total_social','total_email','total_netflix','total DL_UL data'], aggfunc='sum')\n",
    "print(d_f.head())\n",
    "d_f.shape"
   ]
  },
  {
   "cell_type": "code",
   "execution_count": 109,
   "metadata": {},
   "outputs": [
    {
     "data": {
      "text/html": [
       "<div>\n",
       "<style scoped>\n",
       "    .dataframe tbody tr th:only-of-type {\n",
       "        vertical-align: middle;\n",
       "    }\n",
       "\n",
       "    .dataframe tbody tr th {\n",
       "        vertical-align: top;\n",
       "    }\n",
       "\n",
       "    .dataframe thead th {\n",
       "        text-align: right;\n",
       "    }\n",
       "</style>\n",
       "<table border=\"1\" class=\"dataframe\">\n",
       "  <thead>\n",
       "    <tr style=\"text-align: right;\">\n",
       "      <th></th>\n",
       "      <th>total DL_UL data</th>\n",
       "    </tr>\n",
       "    <tr>\n",
       "      <th>MSISDN/Number</th>\n",
       "      <th></th>\n",
       "    </tr>\n",
       "  </thead>\n",
       "  <tbody>\n",
       "    <tr>\n",
       "      <th>3.360100e+10</th>\n",
       "      <td>8.786906e+08</td>\n",
       "    </tr>\n",
       "    <tr>\n",
       "      <th>3.360100e+10</th>\n",
       "      <td>1.568596e+08</td>\n",
       "    </tr>\n",
       "    <tr>\n",
       "      <th>3.360100e+10</th>\n",
       "      <td>5.959665e+08</td>\n",
       "    </tr>\n",
       "    <tr>\n",
       "      <th>3.360101e+10</th>\n",
       "      <td>4.223207e+08</td>\n",
       "    </tr>\n",
       "    <tr>\n",
       "      <th>3.360101e+10</th>\n",
       "      <td>1.457411e+09</td>\n",
       "    </tr>\n",
       "  </tbody>\n",
       "</table>\n",
       "</div>"
      ],
      "text/plain": [
       "               total DL_UL data\n",
       "MSISDN/Number                  \n",
       "3.360100e+10       8.786906e+08\n",
       "3.360100e+10       1.568596e+08\n",
       "3.360100e+10       5.959665e+08\n",
       "3.360101e+10       4.223207e+08\n",
       "3.360101e+10       1.457411e+09"
      ]
     },
     "execution_count": 109,
     "metadata": {},
     "output_type": "execute_result"
    }
   ],
   "source": [
    "df_e=df2.pivot_table(index=\"MSISDN/Number\", values=['total DL_UL data'], aggfunc='sum')\n",
    "df_e.head()"
   ]
  },
  {
   "cell_type": "code",
   "execution_count": 110,
   "metadata": {
    "colab": {
     "base_uri": "https://localhost:8080/",
     "height": 173
    },
    "colab_type": "code",
    "executionInfo": {
     "elapsed": 1025,
     "status": "ok",
     "timestamp": 1596024853477,
     "user": {
      "displayName": "Rofiah Adeshina",
      "photoUrl": "",
      "userId": "16819728728819546989"
     },
     "user_tz": -60
    },
    "id": "jgLL_JZ1ZANu",
    "outputId": "1bdfdfdf-96a3-4041-dc3f-35a7772a786b"
   },
   "outputs": [
    {
     "name": "stdout",
     "output_type": "stream",
     "text": [
      "               total DL_UL data  total_email  total_gaming  total_google  \\\n",
      "MSISDN/Number                                                              \n",
      "3.360100e+10        878690574.0    1331362.0   812458661.0     4389005.0   \n",
      "\n",
      "               total_netflix  total_social  total_youtube  Bearer Id  \\\n",
      "MSISDN/Number                                                          \n",
      "3.360100e+10      27180981.0     2232135.0     21624548.0          1   \n",
      "\n",
      "               Dur. (ms).1  \n",
      "MSISDN/Number               \n",
      "3.360100e+10   116720140.0  \n"
     ]
    }
   ],
   "source": [
    "\n",
    "df_new = pd.concat([d_f,Number_of_xDR_session,session_duration], axis=1)\n",
    "print(df_new.head(2))"
   ]
  },
  {
   "cell_type": "code",
   "execution_count": 112,
   "metadata": {
    "colab": {
     "base_uri": "https://localhost:8080/",
     "height": 294
    },
    "colab_type": "code",
    "executionInfo": {
     "elapsed": 1290,
     "status": "ok",
     "timestamp": 1595956557304,
     "user": {
      "displayName": "Rofiah Adeshina",
      "photoUrl": "",
      "userId": "16819728728819546989"
     },
     "user_tz": -60
    },
    "id": "AZzMV56mJNLQ",
    "outputId": "7e73bdf4-5b91-40bc-d645-a4bd1324bb76"
   },
   "outputs": [
    {
     "data": {
      "text/html": [
       "<div>\n",
       "<style scoped>\n",
       "    .dataframe tbody tr th:only-of-type {\n",
       "        vertical-align: middle;\n",
       "    }\n",
       "\n",
       "    .dataframe tbody tr th {\n",
       "        vertical-align: top;\n",
       "    }\n",
       "\n",
       "    .dataframe thead th {\n",
       "        text-align: right;\n",
       "    }\n",
       "</style>\n",
       "<table border=\"1\" class=\"dataframe\">\n",
       "  <thead>\n",
       "    <tr style=\"text-align: right;\">\n",
       "      <th></th>\n",
       "      <th>total DL_UL data</th>\n",
       "      <th>total_email</th>\n",
       "      <th>total_gaming</th>\n",
       "      <th>total_google</th>\n",
       "      <th>total_netflix</th>\n",
       "      <th>total_social</th>\n",
       "      <th>total_youtube</th>\n",
       "      <th>Bearer Id</th>\n",
       "      <th>Dur. (ms).1</th>\n",
       "    </tr>\n",
       "  </thead>\n",
       "  <tbody>\n",
       "    <tr>\n",
       "      <th>count</th>\n",
       "      <td>1.068560e+05</td>\n",
       "      <td>1.068560e+05</td>\n",
       "      <td>1.068560e+05</td>\n",
       "      <td>1.068560e+05</td>\n",
       "      <td>1.068560e+05</td>\n",
       "      <td>1.068560e+05</td>\n",
       "      <td>1.068560e+05</td>\n",
       "      <td>106856.000000</td>\n",
       "      <td>1.068560e+05</td>\n",
       "    </tr>\n",
       "    <tr>\n",
       "      <th>mean</th>\n",
       "      <td>6.909621e+08</td>\n",
       "      <td>3.148796e+06</td>\n",
       "      <td>5.997690e+08</td>\n",
       "      <td>1.088243e+07</td>\n",
       "      <td>3.153833e+07</td>\n",
       "      <td>2.547967e+06</td>\n",
       "      <td>3.155840e+07</td>\n",
       "      <td>1.393792</td>\n",
       "      <td>1.461679e+08</td>\n",
       "    </tr>\n",
       "    <tr>\n",
       "      <th>std</th>\n",
       "      <td>4.910559e+08</td>\n",
       "      <td>2.222400e+06</td>\n",
       "      <td>4.491505e+08</td>\n",
       "      <td>7.544861e+06</td>\n",
       "      <td>2.128956e+07</td>\n",
       "      <td>1.908038e+06</td>\n",
       "      <td>2.129492e+07</td>\n",
       "      <td>0.806022</td>\n",
       "      <td>1.863590e+08</td>\n",
       "    </tr>\n",
       "    <tr>\n",
       "      <th>min</th>\n",
       "      <td>3.324901e+07</td>\n",
       "      <td>1.817600e+04</td>\n",
       "      <td>3.063580e+05</td>\n",
       "      <td>4.033000e+04</td>\n",
       "      <td>1.845690e+05</td>\n",
       "      <td>1.563000e+03</td>\n",
       "      <td>7.890300e+04</td>\n",
       "      <td>1.000000</td>\n",
       "      <td>7.142988e+06</td>\n",
       "    </tr>\n",
       "    <tr>\n",
       "      <th>25%</th>\n",
       "      <td>3.585499e+08</td>\n",
       "      <td>1.674481e+06</td>\n",
       "      <td>2.880631e+08</td>\n",
       "      <td>5.942636e+06</td>\n",
       "      <td>1.855597e+07</td>\n",
       "      <td>1.211282e+06</td>\n",
       "      <td>1.863109e+07</td>\n",
       "      <td>1.000000</td>\n",
       "      <td>7.130834e+07</td>\n",
       "    </tr>\n",
       "    <tr>\n",
       "      <th>50%</th>\n",
       "      <td>6.179231e+08</td>\n",
       "      <td>2.799824e+06</td>\n",
       "      <td>5.423492e+08</td>\n",
       "      <td>9.586153e+06</td>\n",
       "      <td>2.671889e+07</td>\n",
       "      <td>2.303756e+06</td>\n",
       "      <td>2.680038e+07</td>\n",
       "      <td>1.000000</td>\n",
       "      <td>1.027402e+08</td>\n",
       "    </tr>\n",
       "    <tr>\n",
       "      <th>75%</th>\n",
       "      <td>8.574351e+08</td>\n",
       "      <td>3.847198e+06</td>\n",
       "      <td>7.773041e+08</td>\n",
       "      <td>1.321474e+07</td>\n",
       "      <td>3.797696e+07</td>\n",
       "      <td>3.307509e+06</td>\n",
       "      <td>3.792798e+07</td>\n",
       "      <td>2.000000</td>\n",
       "      <td>1.728000e+08</td>\n",
       "    </tr>\n",
       "    <tr>\n",
       "      <th>max</th>\n",
       "      <td>8.846226e+09</td>\n",
       "      <td>4.241878e+07</td>\n",
       "      <td>7.749432e+09</td>\n",
       "      <td>1.521919e+08</td>\n",
       "      <td>3.995191e+08</td>\n",
       "      <td>4.337478e+07</td>\n",
       "      <td>4.529588e+08</td>\n",
       "      <td>18.000000</td>\n",
       "      <td>1.855376e+10</td>\n",
       "    </tr>\n",
       "  </tbody>\n",
       "</table>\n",
       "</div>"
      ],
      "text/plain": [
       "       total DL_UL data   total_email  total_gaming  total_google  \\\n",
       "count      1.068560e+05  1.068560e+05  1.068560e+05  1.068560e+05   \n",
       "mean       6.909621e+08  3.148796e+06  5.997690e+08  1.088243e+07   \n",
       "std        4.910559e+08  2.222400e+06  4.491505e+08  7.544861e+06   \n",
       "min        3.324901e+07  1.817600e+04  3.063580e+05  4.033000e+04   \n",
       "25%        3.585499e+08  1.674481e+06  2.880631e+08  5.942636e+06   \n",
       "50%        6.179231e+08  2.799824e+06  5.423492e+08  9.586153e+06   \n",
       "75%        8.574351e+08  3.847198e+06  7.773041e+08  1.321474e+07   \n",
       "max        8.846226e+09  4.241878e+07  7.749432e+09  1.521919e+08   \n",
       "\n",
       "       total_netflix  total_social  total_youtube      Bearer Id   Dur. (ms).1  \n",
       "count   1.068560e+05  1.068560e+05   1.068560e+05  106856.000000  1.068560e+05  \n",
       "mean    3.153833e+07  2.547967e+06   3.155840e+07       1.393792  1.461679e+08  \n",
       "std     2.128956e+07  1.908038e+06   2.129492e+07       0.806022  1.863590e+08  \n",
       "min     1.845690e+05  1.563000e+03   7.890300e+04       1.000000  7.142988e+06  \n",
       "25%     1.855597e+07  1.211282e+06   1.863109e+07       1.000000  7.130834e+07  \n",
       "50%     2.671889e+07  2.303756e+06   2.680038e+07       1.000000  1.027402e+08  \n",
       "75%     3.797696e+07  3.307509e+06   3.792798e+07       2.000000  1.728000e+08  \n",
       "max     3.995191e+08  4.337478e+07   4.529588e+08      18.000000  1.855376e+10  "
      ]
     },
     "execution_count": 112,
     "metadata": {},
     "output_type": "execute_result"
    }
   ],
   "source": [
    "df_new.describe()"
   ]
  },
  {
   "cell_type": "code",
   "execution_count": 265,
   "metadata": {
    "colab": {
     "base_uri": "https://localhost:8080/",
     "height": 314
    },
    "colab_type": "code",
    "executionInfo": {
     "elapsed": 1531,
     "status": "ok",
     "timestamp": 1596027636411,
     "user": {
      "displayName": "Rofiah Adeshina",
      "photoUrl": "",
      "userId": "16819728728819546989"
     },
     "user_tz": -60
    },
    "id": "5xvYXtRoolpt",
    "outputId": "7d31f988-4c19-47ea-a3c6-2ce5562db75f"
   },
   "outputs": [
    {
     "data": {
      "image/png": "[encoded data removed]",
      "text/plain": [
       "<Figure size 432x288 with 1 Axes>"
      ]
     },
     "metadata": {},
     "output_type": "display_data"
    },
    {
     "data": {
      "image/png": "[encoded data removed]",
      "text/plain": [
       "<Figure size 432x288 with 1 Axes>"
      ]
     },
     "metadata": {},
     "output_type": "display_data"
    }
   ],
   "source": [
    "#graphical Univariante Analysis\n",
    "import seaborn as sns\n",
    "sns.set_style(\"whitegrid\")\n",
    "ax = sns.boxplot(x=\"total_social\", data=df_new)\n",
    "plt.show()\n",
    "\n",
    "ax = sns.boxplot(x=\"total DL_UL data\", data=df_new)\n",
    "plt.show()\n"
   ]
  },
  {
   "cell_type": "code",
   "execution_count": 266,
   "metadata": {
    "colab": {
     "base_uri": "https://localhost:8080/",
     "height": 721
    },
    "colab_type": "code",
    "executionInfo": {
     "elapsed": 2984,
     "status": "ok",
     "timestamp": 1596029044748,
     "user": {
      "displayName": "Rofiah Adeshina",
      "photoUrl": "",
      "userId": "16819728728819546989"
     },
     "user_tz": -60
    },
    "id": "gO1hKhkn1NeB",
    "outputId": "2505b424-e0af-4c73-cf07-1e342682dcc0"
   },
   "outputs": [
    {
     "data": {
      "image/png": "[encoded data removed]",
      "text/plain": [
       "<Figure size 360x360 with 1 Axes>"
      ]
     },
     "metadata": {},
     "output_type": "display_data"
    },
    {
     "data": {
      "image/png": "[encoded data removed]",
      "text/plain": [
       "<Figure size 360x360 with 1 Axes>"
      ]
     },
     "metadata": {},
     "output_type": "display_data"
    }
   ],
   "source": [
    "import seaborn as sns\n",
    "sns.relplot(x='Dur. (ms).1',y='total DL_UL data', data=df_new, kind=\"scatter\")\n",
    "sns.relplot(x='Bearer Id',y='total DL_UL data', data=df_new, kind=\"scatter\")\n",
    "\n",
    "plt.show()"
   ]
  },
  {
   "cell_type": "code",
   "execution_count": 126,
   "metadata": {},
   "outputs": [
    {
     "data": {
      "text/html": [
       "<div>\n",
       "<style scoped>\n",
       "    .dataframe tbody tr th:only-of-type {\n",
       "        vertical-align: middle;\n",
       "    }\n",
       "\n",
       "    .dataframe tbody tr th {\n",
       "        vertical-align: top;\n",
       "    }\n",
       "\n",
       "    .dataframe thead th {\n",
       "        text-align: right;\n",
       "    }\n",
       "</style>\n",
       "<table border=\"1\" class=\"dataframe\">\n",
       "  <thead>\n",
       "    <tr style=\"text-align: right;\">\n",
       "      <th></th>\n",
       "      <th>total DL_UL data</th>\n",
       "    </tr>\n",
       "    <tr>\n",
       "      <th>MSISDN/Number</th>\n",
       "      <th></th>\n",
       "    </tr>\n",
       "  </thead>\n",
       "  <tbody>\n",
       "    <tr>\n",
       "      <th>3.361489e+10</th>\n",
       "      <td>8.846226e+09</td>\n",
       "    </tr>\n",
       "    <tr>\n",
       "      <th>3.376054e+10</th>\n",
       "      <td>8.514774e+09</td>\n",
       "    </tr>\n",
       "    <tr>\n",
       "      <th>3.362578e+10</th>\n",
       "      <td>8.499621e+09</td>\n",
       "    </tr>\n",
       "    <tr>\n",
       "      <th>3.362632e+10</th>\n",
       "      <td>7.971167e+09</td>\n",
       "    </tr>\n",
       "    <tr>\n",
       "      <th>3.367588e+10</th>\n",
       "      <td>7.891111e+09</td>\n",
       "    </tr>\n",
       "    <tr>\n",
       "      <th>3.365973e+10</th>\n",
       "      <td>7.705863e+09</td>\n",
       "    </tr>\n",
       "    <tr>\n",
       "      <th>3.366646e+10</th>\n",
       "      <td>7.308501e+09</td>\n",
       "    </tr>\n",
       "    <tr>\n",
       "      <th>3.376041e+10</th>\n",
       "      <td>7.132371e+09</td>\n",
       "    </tr>\n",
       "    <tr>\n",
       "      <th>3.366471e+10</th>\n",
       "      <td>6.872018e+09</td>\n",
       "    </tr>\n",
       "    <tr>\n",
       "      <th>3.369879e+10</th>\n",
       "      <td>6.540899e+09</td>\n",
       "    </tr>\n",
       "  </tbody>\n",
       "</table>\n",
       "</div>"
      ],
      "text/plain": [
       "               total DL_UL data\n",
       "MSISDN/Number                  \n",
       "3.361489e+10       8.846226e+09\n",
       "3.376054e+10       8.514774e+09\n",
       "3.362578e+10       8.499621e+09\n",
       "3.362632e+10       7.971167e+09\n",
       "3.367588e+10       7.891111e+09\n",
       "3.365973e+10       7.705863e+09\n",
       "3.366646e+10       7.308501e+09\n",
       "3.376041e+10       7.132371e+09\n",
       "3.366471e+10       6.872018e+09\n",
       "3.369879e+10       6.540899e+09"
      ]
     },
     "execution_count": 126,
     "metadata": {},
     "output_type": "execute_result"
    }
   ],
   "source": [
    "d_f[['total_gaming']].sort_values('total_gaming', ascending=False).head(10)\n",
    "d_f[['total_social']].sort_values('total_social', ascending=False).head(10)\n",
    "d_f[['total_google']].sort_values('total_google', ascending=False).head(10)\n",
    "d_f[['total_youtube']].sort_values('total_youtube', ascending=False).head(10)\n",
    "d_f[['total_email']].sort_values('total_email',ascending=False).head(10)\n",
    "d_f[['total_netflix']].sort_values('total_netflix', ascending=False).head(10)\n",
    "d_f[['total DL_UL data']].sort_values('total DL_UL data', ascending=False).head(10)"
   ]
  },
  {
   "cell_type": "code",
   "execution_count": 205,
   "metadata": {
    "colab": {},
    "colab_type": "code",
    "id": "R0cOmuaSvvT9"
   },
   "outputs": [
    {
     "data": {
      "text/html": [
       "<div>\n",
       "<style scoped>\n",
       "    .dataframe tbody tr th:only-of-type {\n",
       "        vertical-align: middle;\n",
       "    }\n",
       "\n",
       "    .dataframe tbody tr th {\n",
       "        vertical-align: top;\n",
       "    }\n",
       "\n",
       "    .dataframe thead th {\n",
       "        text-align: right;\n",
       "    }\n",
       "</style>\n",
       "<table border=\"1\" class=\"dataframe\">\n",
       "  <thead>\n",
       "    <tr style=\"text-align: right;\">\n",
       "      <th></th>\n",
       "      <th>Bearer Id</th>\n",
       "      <th>Dur. (ms).1</th>\n",
       "      <th>total DL_UL data</th>\n",
       "    </tr>\n",
       "    <tr>\n",
       "      <th>MSISDN/Number</th>\n",
       "      <th></th>\n",
       "      <th></th>\n",
       "      <th></th>\n",
       "    </tr>\n",
       "  </thead>\n",
       "  <tbody>\n",
       "    <tr>\n",
       "      <th>3.360100e+10</th>\n",
       "      <td>1</td>\n",
       "      <td>116720140.0</td>\n",
       "      <td>8.786906e+08</td>\n",
       "    </tr>\n",
       "    <tr>\n",
       "      <th>3.360100e+10</th>\n",
       "      <td>1</td>\n",
       "      <td>181230963.0</td>\n",
       "      <td>1.568596e+08</td>\n",
       "    </tr>\n",
       "    <tr>\n",
       "      <th>3.360100e+10</th>\n",
       "      <td>1</td>\n",
       "      <td>134969374.0</td>\n",
       "      <td>5.959665e+08</td>\n",
       "    </tr>\n",
       "    <tr>\n",
       "      <th>3.360101e+10</th>\n",
       "      <td>1</td>\n",
       "      <td>49878024.0</td>\n",
       "      <td>4.223207e+08</td>\n",
       "    </tr>\n",
       "    <tr>\n",
       "      <th>3.360101e+10</th>\n",
       "      <td>2</td>\n",
       "      <td>37104453.0</td>\n",
       "      <td>1.457411e+09</td>\n",
       "    </tr>\n",
       "  </tbody>\n",
       "</table>\n",
       "</div>"
      ],
      "text/plain": [
       "               Bearer Id  Dur. (ms).1  total DL_UL data\n",
       "MSISDN/Number                                          \n",
       "3.360100e+10           1  116720140.0      8.786906e+08\n",
       "3.360100e+10           1  181230963.0      1.568596e+08\n",
       "3.360100e+10           1  134969374.0      5.959665e+08\n",
       "3.360101e+10           1   49878024.0      4.223207e+08\n",
       "3.360101e+10           2   37104453.0      1.457411e+09"
      ]
     },
     "execution_count": 205,
     "metadata": {},
     "output_type": "execute_result"
    }
   ],
   "source": [
    "df_engage = pd.concat([Number_of_xDR_session,session_duration,df_e], axis=1)\n",
    "df_engage.head()"
   ]
  },
  {
   "cell_type": "code",
   "execution_count": 206,
   "metadata": {},
   "outputs": [
    {
     "data": {
      "text/html": [
       "<div>\n",
       "<style scoped>\n",
       "    .dataframe tbody tr th:only-of-type {\n",
       "        vertical-align: middle;\n",
       "    }\n",
       "\n",
       "    .dataframe tbody tr th {\n",
       "        vertical-align: top;\n",
       "    }\n",
       "\n",
       "    .dataframe thead th {\n",
       "        text-align: right;\n",
       "    }\n",
       "</style>\n",
       "<table border=\"1\" class=\"dataframe\">\n",
       "  <thead>\n",
       "    <tr style=\"text-align: right;\">\n",
       "      <th></th>\n",
       "      <th>Bearer Id</th>\n",
       "      <th>Dur. (ms).1</th>\n",
       "      <th>total DL_UL data</th>\n",
       "    </tr>\n",
       "    <tr>\n",
       "      <th>MSISDN/Number</th>\n",
       "      <th></th>\n",
       "      <th></th>\n",
       "      <th></th>\n",
       "    </tr>\n",
       "  </thead>\n",
       "  <tbody>\n",
       "    <tr>\n",
       "      <th>3.360100e+10</th>\n",
       "      <td>-0.488562</td>\n",
       "      <td>-0.158016</td>\n",
       "      <td>0.382296</td>\n",
       "    </tr>\n",
       "    <tr>\n",
       "      <th>3.360100e+10</th>\n",
       "      <td>-0.488562</td>\n",
       "      <td>0.188148</td>\n",
       "      <td>-1.087661</td>\n",
       "    </tr>\n",
       "    <tr>\n",
       "      <th>3.360100e+10</th>\n",
       "      <td>-0.488562</td>\n",
       "      <td>-0.060091</td>\n",
       "      <td>-0.193452</td>\n",
       "    </tr>\n",
       "    <tr>\n",
       "      <th>3.360101e+10</th>\n",
       "      <td>-0.488562</td>\n",
       "      <td>-0.516690</td>\n",
       "      <td>-0.547069</td>\n",
       "    </tr>\n",
       "    <tr>\n",
       "      <th>3.360101e+10</th>\n",
       "      <td>0.752099</td>\n",
       "      <td>-0.585233</td>\n",
       "      <td>1.560818</td>\n",
       "    </tr>\n",
       "  </tbody>\n",
       "</table>\n",
       "</div>"
      ],
      "text/plain": [
       "               Bearer Id  Dur. (ms).1  total DL_UL data\n",
       "MSISDN/Number                                          \n",
       "3.360100e+10   -0.488562    -0.158016          0.382296\n",
       "3.360100e+10   -0.488562     0.188148         -1.087661\n",
       "3.360100e+10   -0.488562    -0.060091         -0.193452\n",
       "3.360101e+10   -0.488562    -0.516690         -0.547069\n",
       "3.360101e+10    0.752099    -0.585233          1.560818"
      ]
     },
     "execution_count": 206,
     "metadata": {},
     "output_type": "execute_result"
    }
   ],
   "source": [
    "import pandas as pd\n",
    "from sklearn import preprocessing\n",
    "#normalized_df = preprocessing.normalize(df_e)\n",
    "#print(normalized_df)\n",
    "normalized_df=(df_engage-df_engage.mean())/df_engage.std()\n",
    "normalized_df.head()"
   ]
  },
  {
   "cell_type": "code",
   "execution_count": 207,
   "metadata": {
    "colab": {
     "base_uri": "https://localhost:8080/",
     "height": 69
    },
    "colab_type": "code",
    "executionInfo": {
     "elapsed": 2596,
     "status": "ok",
     "timestamp": 1596034362740,
     "user": {
      "displayName": "Rofiah Adeshina",
      "photoUrl": "",
      "userId": "16819728728819546989"
     },
     "user_tz": -60
    },
    "id": "3QgzjMakqm4M",
    "outputId": "527399a5-6993-4006-d5a8-aa9da6c01147"
   },
   "outputs": [
    {
     "name": "stdout",
     "output_type": "stream",
     "text": [
      "[[ 0.97893827  0.37089885  0.86609129]\n",
      " [-0.45374392 -0.23096217 -0.3991637 ]\n",
      " [ 3.74298436  2.74823042  3.26026791]]\n"
     ]
    },
    {
     "data": {
      "image/png": "[encoded data removed]",
      "text/plain": [
       "<Figure size 432x288 with 1 Axes>"
      ]
     },
     "metadata": {
      "needs_background": "light"
     },
     "output_type": "display_data"
    }
   ],
   "source": [
    "#from sklearn.cluster import KMeans\n",
    "#kmeans = KMeans(n_clusters=3, random_state=0) \n",
    "#kmeans.fit(normalized_duration.reshape(-1,1))\n",
    "\n",
    "\n",
    "from sklearn.cluster import KMeans\n",
    "from sklearn.preprocessing import LabelEncoder\n",
    "from sklearn.preprocessing import MinMaxScaler\n",
    "import seaborn as sns\n",
    "import matplotlib.pyplot as plt\n",
    "%matplotlib inline\n",
    "Kmeans = KMeans(n_clusters=3).fit(normalized_df)\n",
    "centroids_eng = Kmeans.cluster_centers_\n",
    "print(centroids_eng)\n",
    "plt.scatter(normalized_df.iloc[:,0],normalized_df.iloc[:,1], c=Kmeans.labels_, cmap='rainbow')\n",
    "plt.show()\n"
   ]
  },
  {
   "cell_type": "code",
   "execution_count": 245,
   "metadata": {
    "colab": {},
    "colab_type": "code",
    "id": "6SmD8Px5qoRn"
   },
   "outputs": [
    {
     "name": "stdout",
     "output_type": "stream",
     "text": [
      "          Dur. (ms).1                                        \n",
      "                  sum           max         min          mean\n",
      "cluster                                                      \n",
      "0        1.290962e+13  6.288736e+09   7142988.0  1.349828e+08\n",
      "1        4.934168e+10  2.145630e+09  10037398.0  2.154659e+08\n",
      "2        2.659961e+12  1.855376e+10   7997676.0  2.420788e+08\n",
      "        total DL_UL data                                        \n",
      "                     sum           max         min          mean\n",
      "cluster                                                         \n",
      "0           6.072884e+13  5.754731e+09  33249009.0  6.349798e+08\n",
      "1           2.691280e+11  4.600483e+09  91188540.0  1.175231e+09\n",
      "2           1.283548e+13  8.846226e+09  43253484.0  1.168136e+09\n"
     ]
    }
   ],
   "source": [
    "df_engage['cluster'] = Kmeans.labels_\n",
    "df_engage.head()\n",
    "\n",
    "#Computing the minimum, maximum, average & total non- normalized metrics for each cluster\n",
    "Agg_Bearer=df_engage.groupby(['cluster']).agg({'Bearer Id': ['sum', 'max', 'min', 'mean']})\n",
    "\n",
    "Agg_duration=df_engage.groupby(['cluster']).agg({'Dur. (ms).1': ['sum', 'max', 'min', 'mean']})\n",
    "print(Agg_duration)\n",
    "\n",
    "Agg_total_traffic=df_engage.groupby(['cluster']).agg({'total DL_UL data': ['sum', 'max', 'min', 'mean']})\n",
    "print(Agg_total_traffic)"
   ]
  },
  {
   "cell_type": "code",
   "execution_count": 249,
   "metadata": {},
   "outputs": [
    {
     "data": {
      "image/png": "[encoded data removed]",
      "text/plain": [
       "<Figure size 432x288 with 1 Axes>"
      ]
     },
     "metadata": {
      "needs_background": "light"
     },
     "output_type": "display_data"
    },
    {
     "data": {
      "image/png": "[encoded data removed]",
      "text/plain": [
       "<Figure size 432x288 with 1 Axes>"
      ]
     },
     "metadata": {
      "needs_background": "light"
     },
     "output_type": "display_data"
    },
    {
     "data": {
      "image/png": "[encoded data removed]",
      "text/plain": [
       "<Figure size 432x288 with 1 Axes>"
      ]
     },
     "metadata": {
      "needs_background": "light"
     },
     "output_type": "display_data"
    }
   ],
   "source": [
    "Agg_Bearer['Bearer Id','mean'].plot(kind='bar')\n",
    "plt.ylabel('session frequency')\n",
    "plt.title('Session frequency mean per cluster')\n",
    "plt.show()\n",
    "\n",
    "Agg_duration['Dur. (ms).1','mean'].plot(kind='bar')\n",
    "plt.ylabel('Session Duration')\n",
    "plt.title('Session Duration mean per cluster')\n",
    "plt.show()\n",
    "\n",
    "Agg_total_traffic['total DL_UL data','mean'].plot(kind='bar')\n",
    "plt.ylabel('Total Traffic')\n",
    "plt.title('Total traffic mean per cluster')\n",
    "plt.show()"
   ]
  },
  {
   "cell_type": "code",
   "execution_count": null,
   "metadata": {},
   "outputs": [],
   "source": []
  },
  {
   "cell_type": "code",
   "execution_count": 250,
   "metadata": {},
   "outputs": [
    {
     "data": {
      "image/png": "[encoded data removed]",
      "text/plain": [
       "<Figure size 432x288 with 1 Axes>"
      ]
     },
     "metadata": {
      "needs_background": "light"
     },
     "output_type": "display_data"
    },
    {
     "data": {
      "image/png": "[encoded data removed]",
      "text/plain": [
       "<Figure size 432x288 with 1 Axes>"
      ]
     },
     "metadata": {
      "needs_background": "light"
     },
     "output_type": "display_data"
    },
    {
     "data": {
      "image/png": "[encoded data removed]",
      "text/plain": [
       "<Figure size 432x288 with 1 Axes>"
      ]
     },
     "metadata": {
      "needs_background": "light"
     },
     "output_type": "display_data"
    }
   ],
   "source": [
    "Agg_Bearer['Bearer Id','max'].plot(kind='bar')\n",
    "plt.ylabel('session frequency')\n",
    "plt.title('Session frequency max per cluster')\n",
    "plt.show()\n",
    "\n",
    "Agg_duration['Dur. (ms).1','max'].plot(kind='bar')\n",
    "plt.ylabel('Session Duration')\n",
    "plt.title('Session Duration max per cluster')\n",
    "plt.show()\n",
    "\n",
    "Agg_total_traffic['total DL_UL data','max'].plot(kind='bar')\n",
    "plt.ylabel('Total Traffic')\n",
    "plt.title('Total traffic max per cluster')\n",
    "plt.show()"
   ]
  },
  {
   "cell_type": "code",
   "execution_count": 251,
   "metadata": {
    "scrolled": true
   },
   "outputs": [
    {
     "data": {
      "image/png": "[encoded data removed]",
      "text/plain": [
       "<Figure size 432x288 with 1 Axes>"
      ]
     },
     "metadata": {
      "needs_background": "light"
     },
     "output_type": "display_data"
    },
    {
     "data": {
      "image/png": "[encoded data removed]",
      "text/plain": [
       "<Figure size 432x288 with 1 Axes>"
      ]
     },
     "metadata": {
      "needs_background": "light"
     },
     "output_type": "display_data"
    },
    {
     "data": {
      "image/png": "[encoded data removed]",
      "text/plain": [
       "<Figure size 432x288 with 1 Axes>"
      ]
     },
     "metadata": {
      "needs_background": "light"
     },
     "output_type": "display_data"
    }
   ],
   "source": [
    "Agg_duration['Dur. (ms).1','min'].plot(kind='bar')\n",
    "plt.ylabel('Session Duration')\n",
    "plt.title('Session Duration minimum per cluster')\n",
    "plt.show()\n",
    "\n",
    "Agg_Bearer['Bearer Id','min'].plot(kind='bar')\n",
    "plt.ylabel('session frequency')\n",
    "plt.title('Session frequency minimum per cluster')\n",
    "plt.show()\n",
    "\n",
    "Agg_total_traffic['total DL_UL data','min'].plot(kind='bar')\n",
    "plt.ylabel('Total Traffic')\n",
    "plt.title('Total traffic minimum per cluster')\n",
    "plt.show()"
   ]
  },
  {
   "cell_type": "code",
   "execution_count": 252,
   "metadata": {},
   "outputs": [
    {
     "data": {
      "image/png": "[encoded data removed]",
      "text/plain": [
       "<Figure size 432x288 with 1 Axes>"
      ]
     },
     "metadata": {
      "needs_background": "light"
     },
     "output_type": "display_data"
    },
    {
     "data": {
      "image/png": "[encoded data removed]",
      "text/plain": [
       "<Figure size 432x288 with 1 Axes>"
      ]
     },
     "metadata": {
      "needs_background": "light"
     },
     "output_type": "display_data"
    },
    {
     "data": {
      "image/png": "[encoded data removed]",
      "text/plain": [
       "<Figure size 432x288 with 1 Axes>"
      ]
     },
     "metadata": {
      "needs_background": "light"
     },
     "output_type": "display_data"
    }
   ],
   "source": [
    "Agg_duration['Dur. (ms).1','sum'].plot(kind='bar')\n",
    "plt.ylabel('Session Duration')\n",
    "plt.title('Total Session Duration per cluster')\n",
    "plt.show()\n",
    "\n",
    "Agg_Bearer['Bearer Id','sum'].plot(kind='bar')\n",
    "plt.ylabel('session frequency')\n",
    "plt.title('Total Session frequency minimum per cluster')\n",
    "plt.show()\n",
    "\n",
    "Agg_total_traffic['total DL_UL data','sum'].plot(kind='bar')\n",
    "plt.ylabel('Total Traffic')\n",
    "plt.title('Total traffic per cluster')\n",
    "plt.show()"
   ]
  },
  {
   "cell_type": "code",
   "execution_count": 171,
   "metadata": {},
   "outputs": [
    {
     "data": {
      "text/html": [
       "<div>\n",
       "<style scoped>\n",
       "    .dataframe tbody tr th:only-of-type {\n",
       "        vertical-align: middle;\n",
       "    }\n",
       "\n",
       "    .dataframe tbody tr th {\n",
       "        vertical-align: top;\n",
       "    }\n",
       "\n",
       "    .dataframe thead th {\n",
       "        text-align: right;\n",
       "    }\n",
       "</style>\n",
       "<table border=\"1\" class=\"dataframe\">\n",
       "  <thead>\n",
       "    <tr style=\"text-align: right;\">\n",
       "      <th></th>\n",
       "      <th>total_email</th>\n",
       "      <th>total_gaming</th>\n",
       "      <th>total_google</th>\n",
       "      <th>total_netflix</th>\n",
       "      <th>total_social</th>\n",
       "      <th>total_youtube</th>\n",
       "    </tr>\n",
       "    <tr>\n",
       "      <th>MSISDN/Number</th>\n",
       "      <th></th>\n",
       "      <th></th>\n",
       "      <th></th>\n",
       "      <th></th>\n",
       "      <th></th>\n",
       "      <th></th>\n",
       "    </tr>\n",
       "  </thead>\n",
       "  <tbody>\n",
       "    <tr>\n",
       "      <th>3.360100e+10</th>\n",
       "      <td>1331362.0</td>\n",
       "      <td>812458661.0</td>\n",
       "      <td>4389005.0</td>\n",
       "      <td>27180981.0</td>\n",
       "      <td>2232135.0</td>\n",
       "      <td>21624548.0</td>\n",
       "    </tr>\n",
       "    <tr>\n",
       "      <th>3.360100e+10</th>\n",
       "      <td>3307781.0</td>\n",
       "      <td>119750078.0</td>\n",
       "      <td>5334863.0</td>\n",
       "      <td>11221763.0</td>\n",
       "      <td>2660565.0</td>\n",
       "      <td>12432223.0</td>\n",
       "    </tr>\n",
       "    <tr>\n",
       "      <th>3.360100e+10</th>\n",
       "      <td>3205380.0</td>\n",
       "      <td>538827713.0</td>\n",
       "      <td>3443126.0</td>\n",
       "      <td>19353900.0</td>\n",
       "      <td>3195623.0</td>\n",
       "      <td>21333570.0</td>\n",
       "    </tr>\n",
       "    <tr>\n",
       "      <th>3.360101e+10</th>\n",
       "      <td>2284670.0</td>\n",
       "      <td>391126127.0</td>\n",
       "      <td>9678493.0</td>\n",
       "      <td>1942092.0</td>\n",
       "      <td>280294.0</td>\n",
       "      <td>6977321.0</td>\n",
       "    </tr>\n",
       "    <tr>\n",
       "      <th>3.360101e+10</th>\n",
       "      <td>1652734.5</td>\n",
       "      <td>657398910.0</td>\n",
       "      <td>9249808.0</td>\n",
       "      <td>24600862.0</td>\n",
       "      <td>1456271.0</td>\n",
       "      <td>20766501.0</td>\n",
       "    </tr>\n",
       "  </tbody>\n",
       "</table>\n",
       "</div>"
      ],
      "text/plain": [
       "               total_email  total_gaming  total_google  total_netflix  \\\n",
       "MSISDN/Number                                                           \n",
       "3.360100e+10     1331362.0   812458661.0     4389005.0     27180981.0   \n",
       "3.360100e+10     3307781.0   119750078.0     5334863.0     11221763.0   \n",
       "3.360100e+10     3205380.0   538827713.0     3443126.0     19353900.0   \n",
       "3.360101e+10     2284670.0   391126127.0     9678493.0      1942092.0   \n",
       "3.360101e+10     1652734.5   657398910.0     9249808.0     24600862.0   \n",
       "\n",
       "               total_social  total_youtube  \n",
       "MSISDN/Number                               \n",
       "3.360100e+10      2232135.0     21624548.0  \n",
       "3.360100e+10      2660565.0     12432223.0  \n",
       "3.360100e+10      3195623.0     21333570.0  \n",
       "3.360101e+10       280294.0      6977321.0  \n",
       "3.360101e+10      1456271.0     20766501.0  "
      ]
     },
     "execution_count": 171,
     "metadata": {},
     "output_type": "execute_result"
    }
   ],
   "source": [
    "#application dataframe \n",
    "df_app = df2.pivot_table(index='MSISDN/Number', values=['total_gaming','total_google','total_youtube','total_social','total_email','total_netflix'])\n",
    "df_app.head()"
   ]
  },
  {
   "cell_type": "code",
   "execution_count": null,
   "metadata": {},
   "outputs": [],
   "source": []
  },
  {
   "cell_type": "code",
   "execution_count": 175,
   "metadata": {},
   "outputs": [
    {
     "data": {
      "text/html": [
       "<div>\n",
       "<style scoped>\n",
       "    .dataframe tbody tr th:only-of-type {\n",
       "        vertical-align: middle;\n",
       "    }\n",
       "\n",
       "    .dataframe tbody tr th {\n",
       "        vertical-align: top;\n",
       "    }\n",
       "\n",
       "    .dataframe thead th {\n",
       "        text-align: right;\n",
       "    }\n",
       "</style>\n",
       "<table border=\"1\" class=\"dataframe\">\n",
       "  <thead>\n",
       "    <tr style=\"text-align: right;\">\n",
       "      <th></th>\n",
       "      <th>total_email</th>\n",
       "    </tr>\n",
       "    <tr>\n",
       "      <th>MSISDN/Number</th>\n",
       "      <th></th>\n",
       "    </tr>\n",
       "  </thead>\n",
       "  <tbody>\n",
       "    <tr>\n",
       "      <th>3.362632e+10</th>\n",
       "      <td>42418782.0</td>\n",
       "    </tr>\n",
       "    <tr>\n",
       "      <th>3.361489e+10</th>\n",
       "      <td>40788634.0</td>\n",
       "    </tr>\n",
       "    <tr>\n",
       "      <th>3.362578e+10</th>\n",
       "      <td>40633966.0</td>\n",
       "    </tr>\n",
       "    <tr>\n",
       "      <th>3.378632e+10</th>\n",
       "      <td>36310123.0</td>\n",
       "    </tr>\n",
       "    <tr>\n",
       "      <th>3.365973e+10</th>\n",
       "      <td>35999792.0</td>\n",
       "    </tr>\n",
       "    <tr>\n",
       "      <th>3.376054e+10</th>\n",
       "      <td>33693767.0</td>\n",
       "    </tr>\n",
       "    <tr>\n",
       "      <th>3.367588e+10</th>\n",
       "      <td>31514421.0</td>\n",
       "    </tr>\n",
       "    <tr>\n",
       "      <th>3.366546e+10</th>\n",
       "      <td>30417885.0</td>\n",
       "    </tr>\n",
       "    <tr>\n",
       "      <th>3.366716e+10</th>\n",
       "      <td>30335796.0</td>\n",
       "    </tr>\n",
       "    <tr>\n",
       "      <th>3.369879e+10</th>\n",
       "      <td>29059042.0</td>\n",
       "    </tr>\n",
       "  </tbody>\n",
       "</table>\n",
       "</div>"
      ],
      "text/plain": [
       "               total_email\n",
       "MSISDN/Number             \n",
       "3.362632e+10    42418782.0\n",
       "3.361489e+10    40788634.0\n",
       "3.362578e+10    40633966.0\n",
       "3.378632e+10    36310123.0\n",
       "3.365973e+10    35999792.0\n",
       "3.376054e+10    33693767.0\n",
       "3.367588e+10    31514421.0\n",
       "3.366546e+10    30417885.0\n",
       "3.366716e+10    30335796.0\n",
       "3.369879e+10    29059042.0"
      ]
     },
     "execution_count": 175,
     "metadata": {},
     "output_type": "execute_result"
    }
   ],
   "source": [
    "gaming = df2.groupby(['MSISDN/Number']).agg({'total_gaming':'sum'})\n",
    "google = df2.groupby(['MSISDN/Number']).agg({'total_google':'sum'})\n",
    "netflix = df2.groupby(['MSISDN/Number']).agg({'total_netflix':'sum'})\n",
    "social = df2.groupby(['MSISDN/Number']).agg({'total_social':'sum'})\n",
    "you_tube = df2.groupby(['MSISDN/Number']).agg({'total_youtube':'sum'})\n",
    "email = df2.groupby(['MSISDN/Number']).agg({'total_email':'sum'})\n",
    "\n",
    "\n",
    "#sorting\n",
    "game_sort = gaming.sort_values('total_gaming', ascending=False).head(10)\n",
    "google_sort=google.sort_values('total_google', ascending=False).head(10)\n",
    "netflix_sort=netflix.sort_values('total_netflix', ascending=False).head(10)\n",
    "social.sort_values('total_social', ascending=False).head(10)\n",
    "you_tube.sort_values('total_youtube', ascending=False).head(10)\n",
    "email.sort_values('total_email', ascending=False).head(10)"
   ]
  },
  {
   "cell_type": "code",
   "execution_count": 177,
   "metadata": {},
   "outputs": [
    {
     "data": {
      "image/png": "[encoded data removed]",
      "text/plain": [
       "<Figure size 432x288 with 1 Axes>"
      ]
     },
     "metadata": {},
     "output_type": "display_data"
    },
    {
     "data": {
      "image/png": "[encoded data removed]",
      "text/plain": [
       "<Figure size 432x288 with 1 Axes>"
      ]
     },
     "metadata": {},
     "output_type": "display_data"
    },
    {
     "data": {
      "image/png": "[encoded data removed]",
      "text/plain": [
       "<Figure size 432x288 with 1 Axes>"
      ]
     },
     "metadata": {},
     "output_type": "display_data"
    }
   ],
   "source": [
    "#plot top 3 most used application\n",
    "game_sort.plot(kind='bar')\n",
    "google_sort.plot(kind='bar')\n",
    "netflix_sort.plot(kind='bar')\n",
    "plt.show()"
   ]
  },
  {
   "cell_type": "code",
   "execution_count": 172,
   "metadata": {},
   "outputs": [
    {
     "data": {
      "image/png": "[encoded data removed]",
      "text/plain": [
       "<Figure size 432x288 with 1 Axes>"
      ]
     },
     "metadata": {},
     "output_type": "display_data"
    }
   ],
   "source": [
    "# Import required packages\n",
    "from sklearn.preprocessing import MinMaxScaler\n",
    "mms = MinMaxScaler()\n",
    "mms.fit(df_app)\n",
    "transformed_df = mms.transform(df_app)\n",
    "\n",
    "#initialize kmeans and identify sum of squared distances\n",
    "Sum_of_squared_distances = []\n",
    "K = range(1,15)\n",
    "for k in K:\n",
    "    km = KMeans(n_clusters=k)\n",
    "    km = km.fit(transformed_df)\n",
    "    Sum_of_squared_distances.append(km.inertia_)\n",
    "    \n",
    "#using elboe method to determine appropriate k value\n",
    "plt.plot(K, Sum_of_squared_distances, 'bx-')\n",
    "plt.xlabel('k')\n",
    "plt.ylabel('Sum_of_squared_distances')\n",
    "plt.title('Elbow Method For Optimal k')\n",
    "plt.show()"
   ]
  },
  {
   "cell_type": "markdown",
   "metadata": {},
   "source": [
    "from the elbow diagram, appropriate k value to use is 4(k=4)\n",
    "performing clustering on aggregated application data with k = 4"
   ]
  },
  {
   "cell_type": "code",
   "execution_count": 183,
   "metadata": {},
   "outputs": [
    {
     "name": "stdout",
     "output_type": "stream",
     "text": [
      "[[-0.85516355  1.02188522  0.00132504 -0.01724334  0.03638541 -0.05810683\n",
      "  -1.12869085]\n",
      " [ 0.85120011  1.03109616  0.02489746  0.00280012  0.0270156   0.02093312\n",
      "  -1.13120999]\n",
      " [ 0.02454175 -0.63153519  0.00699281  0.00688183  0.90343485 -0.00812973\n",
      "   0.05843637]\n",
      " [-0.02079073 -0.59203228 -0.02215269  0.00180863 -0.91307661  0.02971982\n",
      "   1.26903684]]\n"
     ]
    },
    {
     "data": {
      "image/png": "[encoded data removed]",
      "text/plain": [
       "<Figure size 432x288 with 1 Axes>"
      ]
     },
     "metadata": {
      "needs_background": "light"
     },
     "output_type": "display_data"
    }
   ],
   "source": [
    "#normalize aggregated application data frame\n",
    "from sklearn import preprocessing\n",
    "#normalizd_app_df = preprocessing.normalize(df_app)\n",
    "#print(normalizd_app_df)\n",
    "normalizd_app_df=(df_app-df_app.mean())/df_app.std()\n",
    "normalizd_app_df.head()\n",
    "\n",
    "#performing Kmeans clustering\n",
    "from sklearn.cluster import KMeans\n",
    "from sklearn.preprocessing import LabelEncoder\n",
    "from sklearn.preprocessing import MinMaxScaler\n",
    "import seaborn as sns\n",
    "import matplotlib.pyplot as plt\n",
    "%matplotlib inline\n",
    "Kmeans = KMeans(n_clusters=4).fit(normalizd_app_df)\n",
    "centroids_app = Kmeans.cluster_centers_\n",
    "print(centroids)\n",
    "plt.scatter(normalizd_app_df.iloc[:,0],normalizd_app_df.iloc[:,1], c=Kmeans.labels_, cmap='rainbow')\n",
    "plt.show()\n"
   ]
  },
  {
   "cell_type": "code",
   "execution_count": 184,
   "metadata": {},
   "outputs": [
    {
     "data": {
      "text/html": [
       "<div>\n",
       "<style scoped>\n",
       "    .dataframe tbody tr th:only-of-type {\n",
       "        vertical-align: middle;\n",
       "    }\n",
       "\n",
       "    .dataframe tbody tr th {\n",
       "        vertical-align: top;\n",
       "    }\n",
       "\n",
       "    .dataframe thead th {\n",
       "        text-align: right;\n",
       "    }\n",
       "</style>\n",
       "<table border=\"1\" class=\"dataframe\">\n",
       "  <thead>\n",
       "    <tr style=\"text-align: right;\">\n",
       "      <th></th>\n",
       "      <th>total_email</th>\n",
       "      <th>total_gaming</th>\n",
       "      <th>total_google</th>\n",
       "      <th>total_netflix</th>\n",
       "      <th>total_social</th>\n",
       "      <th>total_youtube</th>\n",
       "      <th>cluster</th>\n",
       "    </tr>\n",
       "    <tr>\n",
       "      <th>MSISDN/Number</th>\n",
       "      <th></th>\n",
       "      <th></th>\n",
       "      <th></th>\n",
       "      <th></th>\n",
       "      <th></th>\n",
       "      <th></th>\n",
       "      <th></th>\n",
       "    </tr>\n",
       "  </thead>\n",
       "  <tbody>\n",
       "    <tr>\n",
       "      <th>3.360100e+10</th>\n",
       "      <td>1331362.0</td>\n",
       "      <td>812458661.0</td>\n",
       "      <td>4389005.0</td>\n",
       "      <td>27180981.0</td>\n",
       "      <td>2232135.0</td>\n",
       "      <td>21624548.0</td>\n",
       "      <td>0</td>\n",
       "    </tr>\n",
       "    <tr>\n",
       "      <th>3.360100e+10</th>\n",
       "      <td>3307781.0</td>\n",
       "      <td>119750078.0</td>\n",
       "      <td>5334863.0</td>\n",
       "      <td>11221763.0</td>\n",
       "      <td>2660565.0</td>\n",
       "      <td>12432223.0</td>\n",
       "      <td>2</td>\n",
       "    </tr>\n",
       "    <tr>\n",
       "      <th>3.360100e+10</th>\n",
       "      <td>3205380.0</td>\n",
       "      <td>538827713.0</td>\n",
       "      <td>3443126.0</td>\n",
       "      <td>19353900.0</td>\n",
       "      <td>3195623.0</td>\n",
       "      <td>21333570.0</td>\n",
       "      <td>2</td>\n",
       "    </tr>\n",
       "    <tr>\n",
       "      <th>3.360101e+10</th>\n",
       "      <td>2284670.0</td>\n",
       "      <td>391126127.0</td>\n",
       "      <td>9678493.0</td>\n",
       "      <td>1942092.0</td>\n",
       "      <td>280294.0</td>\n",
       "      <td>6977321.0</td>\n",
       "      <td>3</td>\n",
       "    </tr>\n",
       "    <tr>\n",
       "      <th>3.360101e+10</th>\n",
       "      <td>1652734.5</td>\n",
       "      <td>657398910.0</td>\n",
       "      <td>9249808.0</td>\n",
       "      <td>24600862.0</td>\n",
       "      <td>1456271.0</td>\n",
       "      <td>20766501.0</td>\n",
       "      <td>0</td>\n",
       "    </tr>\n",
       "  </tbody>\n",
       "</table>\n",
       "</div>"
      ],
      "text/plain": [
       "               total_email  total_gaming  total_google  total_netflix  \\\n",
       "MSISDN/Number                                                           \n",
       "3.360100e+10     1331362.0   812458661.0     4389005.0     27180981.0   \n",
       "3.360100e+10     3307781.0   119750078.0     5334863.0     11221763.0   \n",
       "3.360100e+10     3205380.0   538827713.0     3443126.0     19353900.0   \n",
       "3.360101e+10     2284670.0   391126127.0     9678493.0      1942092.0   \n",
       "3.360101e+10     1652734.5   657398910.0     9249808.0     24600862.0   \n",
       "\n",
       "               total_social  total_youtube  cluster  \n",
       "MSISDN/Number                                        \n",
       "3.360100e+10      2232135.0     21624548.0        0  \n",
       "3.360100e+10      2660565.0     12432223.0        2  \n",
       "3.360100e+10      3195623.0     21333570.0        2  \n",
       "3.360101e+10       280294.0      6977321.0        3  \n",
       "3.360101e+10      1456271.0     20766501.0        0  "
      ]
     },
     "execution_count": 184,
     "metadata": {},
     "output_type": "execute_result"
    }
   ],
   "source": [
    "df_app['cluster'] = Kmeans.labels_\n",
    "df_app.head()"
   ]
  },
  {
   "cell_type": "markdown",
   "metadata": {},
   "source": [
    "Task 3.1"
   ]
  },
  {
   "cell_type": "code",
   "execution_count": 185,
   "metadata": {},
   "outputs": [],
   "source": [
    "df2[\"Avg RTT DL (ms)\"].fillna(df2[\"Avg RTT DL (ms)\"].mean(), inplace=True)\n",
    "df2['Avg RTT UL (ms)'].fillna(df2['Avg RTT UL (ms)'].mean(), inplace=True)\n",
    "df2['Avg Bearer TP UL (kbps)'].fillna(df2['Avg Bearer TP UL (kbps)'].mean(), inplace=True)\n",
    "df2['Avg Bearer TP DL (kbps)'].fillna(df2['Avg Bearer TP DL (kbps)'].mean(), inplace=True)\n",
    "df2['TCP DL Retrans. Vol (Bytes)'].fillna(df2['TCP DL Retrans. Vol (Bytes)'].mean(), inplace=True)\n",
    "df2['TCP UL Retrans. Vol (Bytes)'].fillna(df2['TCP UL Retrans. Vol (Bytes)'].mean(), inplace=True)\n",
    "df2['Handset Type'].fillna(df2['Handset Type'].mode(), inplace=True)\n",
    "\n",
    "df2['total Avg RTT'] = df2[\"Avg RTT DL (ms)\"] + df2['Avg RTT UL (ms)']\n",
    "df2['total Avg Bearer TP'] = df2['Avg Bearer TP UL (kbps)'] + df2['Avg Bearer TP DL (kbps)']\n",
    "df2['total TCP Retrans'] = df2['TCP DL Retrans. Vol (Bytes)'] + df2['TCP UL Retrans. Vol (Bytes)']"
   ]
  },
  {
   "cell_type": "code",
   "execution_count": 214,
   "metadata": {},
   "outputs": [
    {
     "name": "stdout",
     "output_type": "stream",
     "text": [
      "               total Avg Bearer TP  total Avg RTT  total TCP Retrans\n",
      "MSISDN/Number                                                       \n",
      "3.360100e+10                  76.0      46.000000       2.165043e+07\n",
      "3.360100e+10                  99.0      31.000000       2.165043e+07\n",
      "3.360100e+10                  97.0     125.861976       2.165043e+07\n",
      "3.360101e+10                 248.0      84.000000       7.673135e+05\n",
      "3.360101e+10               56844.0     119.000000       3.102126e+07\n"
     ]
    },
    {
     "data": {
      "text/html": [
       "<div>\n",
       "<style scoped>\n",
       "    .dataframe tbody tr th:only-of-type {\n",
       "        vertical-align: middle;\n",
       "    }\n",
       "\n",
       "    .dataframe tbody tr th {\n",
       "        vertical-align: top;\n",
       "    }\n",
       "\n",
       "    .dataframe thead th {\n",
       "        text-align: right;\n",
       "    }\n",
       "</style>\n",
       "<table border=\"1\" class=\"dataframe\">\n",
       "  <thead>\n",
       "    <tr style=\"text-align: right;\">\n",
       "      <th></th>\n",
       "      <th>Handset Type</th>\n",
       "    </tr>\n",
       "    <tr>\n",
       "      <th>MSISDN/Number</th>\n",
       "      <th></th>\n",
       "    </tr>\n",
       "  </thead>\n",
       "  <tbody>\n",
       "    <tr>\n",
       "      <th>3.360100e+10</th>\n",
       "      <td>Huawei P20 Lite Huawei Nova 3E</td>\n",
       "    </tr>\n",
       "    <tr>\n",
       "      <th>3.360100e+10</th>\n",
       "      <td>Apple iPhone 7 (A1778)</td>\n",
       "    </tr>\n",
       "    <tr>\n",
       "      <th>3.360100e+10</th>\n",
       "      <td>undefined</td>\n",
       "    </tr>\n",
       "    <tr>\n",
       "      <th>3.360101e+10</th>\n",
       "      <td>Apple iPhone 5S (A1457)</td>\n",
       "    </tr>\n",
       "    <tr>\n",
       "      <th>3.360101e+10</th>\n",
       "      <td>Apple iPhone Se (A1723)Apple iPhone Se (A1723)</td>\n",
       "    </tr>\n",
       "  </tbody>\n",
       "</table>\n",
       "</div>"
      ],
      "text/plain": [
       "                                                 Handset Type\n",
       "MSISDN/Number                                                \n",
       "3.360100e+10                   Huawei P20 Lite Huawei Nova 3E\n",
       "3.360100e+10                           Apple iPhone 7 (A1778)\n",
       "3.360100e+10                                        undefined\n",
       "3.360101e+10                          Apple iPhone 5S (A1457)\n",
       "3.360101e+10   Apple iPhone Se (A1723)Apple iPhone Se (A1723)"
      ]
     },
     "execution_count": 214,
     "metadata": {},
     "output_type": "execute_result"
    }
   ],
   "source": [
    "#Aggregating user by experience\n",
    "df_experience=df2.pivot_table(index=\"MSISDN/Number\", values=['total Avg Bearer TP','total Avg RTT','total TCP Retrans'], aggfunc='sum')\n",
    "print(df_experience.head())\n",
    "\n",
    "#Aggregating handset type\n",
    "df_Handset = df2.groupby(['MSISDN/Number']).agg({'Handset Type':'sum'})\n",
    "df_Handset.head()"
   ]
  },
  {
   "cell_type": "code",
   "execution_count": 268,
   "metadata": {},
   "outputs": [
    {
     "name": "stdout",
     "output_type": "stream",
     "text": [
      "               total Avg Bearer TP\n",
      "MSISDN/Number                     \n",
      "3.376233e+10              902222.0\n",
      "3.366871e+10              840424.0\n",
      "3.365955e+10              798342.0\n",
      "3.366995e+10              690815.0\n",
      "3.366843e+10              676858.0\n",
      "3.369817e+10              618797.0\n",
      "3.362570e+10              564179.0\n",
      "3.365808e+10              550352.0\n",
      "3.376264e+10              549661.0\n",
      "3.366566e+10              530353.0\n",
      "               total Avg RTT\n",
      "MSISDN/Number               \n",
      "3.366232e+10         96924.0\n",
      "3.366087e+10         64670.0\n",
      "3.368369e+10         54848.0\n",
      "3.369855e+10         46021.0\n",
      "3.376181e+10         37084.0\n",
      "3.366879e+10         36304.0\n",
      "3.376094e+10         27278.0\n",
      "3.360679e+10         26300.0\n",
      "3.367182e+10         25715.0\n",
      "3.378187e+10         25388.0\n",
      "               total TCP Retrans\n",
      "MSISDN/Number                   \n",
      "3.366773e+10        8.354209e+09\n",
      "3.365908e+10        7.941860e+09\n",
      "3.366098e+10        7.374905e+09\n",
      "3.376128e+10        6.043978e+09\n",
      "3.376264e+10        5.879989e+09\n",
      "3.365066e+10        5.593366e+09\n",
      "3.366318e+10        5.566929e+09\n",
      "3.366905e+10        5.195865e+09\n",
      "3.376357e+10        5.179459e+09\n",
      "3.365864e+10        5.165857e+09\n"
     ]
    }
   ],
   "source": [
    "#top 10 TCP, RTT and Through put values\n",
    "print(df_3[['total Avg Bearer TP']].sort_values('total Avg Bearer TP',ascending=False).head(10))\n",
    "print(df_3[['total Avg RTT']].sort_values('total Avg RTT', ascending=False).head(10))\n",
    "print(df_3[['total TCP Retrans']].sort_values('total TCP Retrans', ascending=False).head(10))"
   ]
  },
  {
   "cell_type": "code",
   "execution_count": 272,
   "metadata": {},
   "outputs": [
    {
     "name": "stdout",
     "output_type": "stream",
     "text": [
      "               total Avg Bearer TP\n",
      "MSISDN/Number                     \n",
      "3.377776e+10                   0.0\n",
      "3.361064e+10                   0.0\n",
      "3.365934e+10                   0.0\n",
      "3.365947e+10                   0.0\n",
      "3.369859e+10                   0.0\n",
      "               total Avg RTT\n",
      "MSISDN/Number               \n",
      "3.366158e+10             0.0\n",
      "3.365298e+10             0.0\n",
      "3.366020e+10             2.0\n",
      "3.369505e+10             4.0\n",
      "3.365949e+10             5.0\n",
      "3.366862e+10             6.0\n",
      "3.364768e+10             8.0\n",
      "3.367220e+10             9.0\n",
      "3.361085e+10             9.0\n",
      "3.363468e+10            10.0\n",
      "               total TCP Retrans\n",
      "MSISDN/Number                   \n",
      "3.365013e+10                97.0\n",
      "3.361478e+10               128.0\n",
      "3.376206e+10               129.0\n",
      "3.362636e+10               134.0\n",
      "3.360783e+10               143.0\n",
      "3.376964e+10               176.0\n",
      "3.365068e+10               176.0\n",
      "3.378420e+10               177.0\n",
      "3.367937e+10               179.0\n",
      "3.369969e+10               182.0\n"
     ]
    }
   ],
   "source": [
    "#bottom TCP, RTT and Through put values\n",
    "print(df_3[['total Avg Bearer TP']].sort_values('total Avg Bearer TP',ascending=True).head())\n",
    "print(df_3[['total Avg RTT']].sort_values('total Avg RTT', ascending=True).head(10))\n",
    "print(df_3[['total TCP Retrans']].sort_values('total TCP Retrans', ascending=True).head(10))"
   ]
  },
  {
   "cell_type": "code",
   "execution_count": 274,
   "metadata": {},
   "outputs": [
    {
     "name": "stdout",
     "output_type": "stream",
     "text": [
      "                              total Avg Bearer TP\n",
      "Handset Type                                     \n",
      "Huawei B528S-23A                      832626680.0\n",
      "undefined                              89424670.0\n",
      "Apple iPhone 7 (A1778)                 76769459.0\n",
      "Apple iPhone 6S (A1688)                74118773.0\n",
      "Apple iPhone 6 (A1586)                 68596814.0\n",
      "Huawei E5180                           64208823.0\n",
      "Apple iPhone Xr (A2105)                62367607.0\n",
      "Samsung Galaxy S8 (Sm-G950F)           62194400.0\n",
      "Apple iPhone 8 (A1905)                 57739501.0\n",
      "Apple iPhone X (A1901)                 56920948.0\n"
     ]
    }
   ],
   "source": [
    "average_throughput_handset_type = df2.groupby([\"Handset Type\"]).agg({'total Avg Bearer TP':'sum'})\n",
    "print(average_throughput_handset_type.sort_values('total Avg Bearer TP', ascending=False).head(10))"
   ]
  },
  {
   "cell_type": "code",
   "execution_count": 275,
   "metadata": {},
   "outputs": [
    {
     "name": "stdout",
     "output_type": "stream",
     "text": [
      "                              total TCP Retrans\n",
      "Handset Type                                   \n",
      "Huawei B528S-23A                   1.087268e+12\n",
      "Apple iPhone 6S (A1688)            1.723309e+11\n",
      "Apple iPhone 6 (A1586)             1.528386e+11\n",
      "undefined                          1.467669e+11\n",
      "Apple iPhone 7 (A1778)             1.054607e+11\n",
      "Apple iPhone Se (A1723)            9.230349e+10\n",
      "Apple iPhone 8 (A1905)             8.722872e+10\n",
      "Apple iPhone Xr (A2105)            8.432280e+10\n",
      "Samsung Galaxy S8 (Sm-G950F)       6.927824e+10\n",
      "Huawei E5180                       6.764855e+10\n"
     ]
    }
   ],
   "source": [
    "average_TCP_handset_type = df2.groupby([\"Handset Type\"]).agg({'total TCP Retrans':'sum'})\n",
    "print(average_TCP_handset_type.sort_values('total TCP Retrans', ascending=False).head(10))"
   ]
  },
  {
   "cell_type": "code",
   "execution_count": 218,
   "metadata": {},
   "outputs": [
    {
     "name": "stdout",
     "output_type": "stream",
     "text": [
      "[[-0.26804487 -0.03976553 -0.05857083]\n",
      " [ 3.03244178  0.28844719 19.06968629]\n",
      " [ 2.26018641  0.33865921  0.11171693]]\n"
     ]
    },
    {
     "data": {
      "image/png": "[encoded data removed]",
      "text/plain": [
       "<Figure size 432x288 with 1 Axes>"
      ]
     },
     "metadata": {
      "needs_background": "light"
     },
     "output_type": "display_data"
    }
   ],
   "source": [
    "#normalize aggregated application data frame\n",
    "from sklearn import preprocessing\n",
    "#normalizd_app_df = preprocessing.normalize(df_app)\n",
    "#print(normalizd_app_df)\n",
    "normalizd_exp_df=(df_experience-df_experience.mean())/df_experience.std()\n",
    "normalizd_exp_df.head()\n",
    "\n",
    "#performing Kmeans clustering\n",
    "from sklearn.cluster import KMeans\n",
    "from sklearn.preprocessing import LabelEncoder\n",
    "from sklearn.preprocessing import MinMaxScaler\n",
    "import seaborn as sns\n",
    "import matplotlib.pyplot as plt\n",
    "%matplotlib inline\n",
    "Kmeans = KMeans(n_clusters=3).fit(normalizd_exp_df)\n",
    "centroids_exp = Kmeans.cluster_centers_\n",
    "print(centroids_exp)\n",
    "plt.scatter(normalizd_exp_df.iloc[:,0],normalizd_exp_df.iloc[:,1], c=Kmeans.labels_, cmap='rainbow')\n",
    "plt.show()\n"
   ]
  },
  {
   "cell_type": "code",
   "execution_count": 219,
   "metadata": {},
   "outputs": [
    {
     "data": {
      "text/html": [
       "<div>\n",
       "<style scoped>\n",
       "    .dataframe tbody tr th:only-of-type {\n",
       "        vertical-align: middle;\n",
       "    }\n",
       "\n",
       "    .dataframe tbody tr th {\n",
       "        vertical-align: top;\n",
       "    }\n",
       "\n",
       "    .dataframe thead th {\n",
       "        text-align: right;\n",
       "    }\n",
       "</style>\n",
       "<table border=\"1\" class=\"dataframe\">\n",
       "  <thead>\n",
       "    <tr style=\"text-align: right;\">\n",
       "      <th></th>\n",
       "      <th>total Avg Bearer TP</th>\n",
       "      <th>total Avg RTT</th>\n",
       "      <th>total TCP Retrans</th>\n",
       "      <th>cluster</th>\n",
       "    </tr>\n",
       "    <tr>\n",
       "      <th>MSISDN/Number</th>\n",
       "      <th></th>\n",
       "      <th></th>\n",
       "      <th></th>\n",
       "      <th></th>\n",
       "    </tr>\n",
       "  </thead>\n",
       "  <tbody>\n",
       "    <tr>\n",
       "      <th>3.360100e+10</th>\n",
       "      <td>76.0</td>\n",
       "      <td>46.000000</td>\n",
       "      <td>2.165043e+07</td>\n",
       "      <td>0</td>\n",
       "    </tr>\n",
       "    <tr>\n",
       "      <th>3.360100e+10</th>\n",
       "      <td>99.0</td>\n",
       "      <td>31.000000</td>\n",
       "      <td>2.165043e+07</td>\n",
       "      <td>0</td>\n",
       "    </tr>\n",
       "    <tr>\n",
       "      <th>3.360100e+10</th>\n",
       "      <td>97.0</td>\n",
       "      <td>125.861976</td>\n",
       "      <td>2.165043e+07</td>\n",
       "      <td>0</td>\n",
       "    </tr>\n",
       "    <tr>\n",
       "      <th>3.360101e+10</th>\n",
       "      <td>248.0</td>\n",
       "      <td>84.000000</td>\n",
       "      <td>7.673135e+05</td>\n",
       "      <td>0</td>\n",
       "    </tr>\n",
       "    <tr>\n",
       "      <th>3.360101e+10</th>\n",
       "      <td>56844.0</td>\n",
       "      <td>119.000000</td>\n",
       "      <td>3.102126e+07</td>\n",
       "      <td>0</td>\n",
       "    </tr>\n",
       "  </tbody>\n",
       "</table>\n",
       "</div>"
      ],
      "text/plain": [
       "               total Avg Bearer TP  total Avg RTT  total TCP Retrans  cluster\n",
       "MSISDN/Number                                                                \n",
       "3.360100e+10                  76.0      46.000000       2.165043e+07        0\n",
       "3.360100e+10                  99.0      31.000000       2.165043e+07        0\n",
       "3.360100e+10                  97.0     125.861976       2.165043e+07        0\n",
       "3.360101e+10                 248.0      84.000000       7.673135e+05        0\n",
       "3.360101e+10               56844.0     119.000000       3.102126e+07        0"
      ]
     },
     "execution_count": 219,
     "metadata": {},
     "output_type": "execute_result"
    }
   ],
   "source": [
    "df_experience['cluster'] = Kmeans.labels_\n",
    "df_experience.head()"
   ]
  },
  {
   "cell_type": "markdown",
   "metadata": {},
   "source": [
    "### Task 4"
   ]
  },
  {
   "cell_type": "markdown",
   "metadata": {},
   "source": [
    "Engagement Score"
   ]
  },
  {
   "cell_type": "code",
   "execution_count": 198,
   "metadata": {},
   "outputs": [
    {
     "data": {
      "text/html": [
       "<div>\n",
       "<style scoped>\n",
       "    .dataframe tbody tr th:only-of-type {\n",
       "        vertical-align: middle;\n",
       "    }\n",
       "\n",
       "    .dataframe tbody tr th {\n",
       "        vertical-align: top;\n",
       "    }\n",
       "\n",
       "    .dataframe thead th {\n",
       "        text-align: right;\n",
       "    }\n",
       "</style>\n",
       "<table border=\"1\" class=\"dataframe\">\n",
       "  <thead>\n",
       "    <tr style=\"text-align: right;\">\n",
       "      <th></th>\n",
       "      <th>cluster</th>\n",
       "    </tr>\n",
       "    <tr>\n",
       "      <th>cluster</th>\n",
       "      <th></th>\n",
       "    </tr>\n",
       "  </thead>\n",
       "  <tbody>\n",
       "    <tr>\n",
       "      <th>0</th>\n",
       "      <td>79850</td>\n",
       "    </tr>\n",
       "    <tr>\n",
       "      <th>1</th>\n",
       "      <td>23457</td>\n",
       "    </tr>\n",
       "    <tr>\n",
       "      <th>2</th>\n",
       "      <td>3549</td>\n",
       "    </tr>\n",
       "  </tbody>\n",
       "</table>\n",
       "</div>"
      ],
      "text/plain": [
       "         cluster\n",
       "cluster         \n",
       "0          79850\n",
       "1          23457\n",
       "2           3549"
      ]
     },
     "execution_count": 198,
     "metadata": {},
     "output_type": "execute_result"
    }
   ],
   "source": [
    "#to determine the less engaged cluster\n",
    "df_engage.groupby(['cluster'], sort=False).agg({'cluster':'count'})"
   ]
  },
  {
   "cell_type": "code",
   "execution_count": 208,
   "metadata": {},
   "outputs": [
    {
     "data": {
      "text/plain": [
       "array([3.74298436, 2.74823042, 3.26026791])"
      ]
     },
     "execution_count": 208,
     "metadata": {},
     "output_type": "execute_result"
    }
   ],
   "source": [
    "#with cluster three being the least engaged cluster\n",
    "cluster_mean_eng = centroids_eng[2]\n",
    "cluster_mean_eng"
   ]
  },
  {
   "cell_type": "code",
   "execution_count": 209,
   "metadata": {},
   "outputs": [],
   "source": [
    "#to determine engagement score\n",
    "df_engage['eng_point'] = (((df_engage[\"Bearer Id\"] - cluster_mean_eng[0]) ** 2) + ((df_engage[\"Dur. (ms).1\"] - cluster_mean_eng[1]) ** 2) + \n",
    "                                     ((df_engage[\"total DL_UL data\"] - cluster_mean_eng[2]) ** 2)) ** .5"
   ]
  },
  {
   "cell_type": "code",
   "execution_count": 212,
   "metadata": {},
   "outputs": [
    {
     "data": {
      "text/html": [
       "<div>\n",
       "<style scoped>\n",
       "    .dataframe tbody tr th:only-of-type {\n",
       "        vertical-align: middle;\n",
       "    }\n",
       "\n",
       "    .dataframe tbody tr th {\n",
       "        vertical-align: top;\n",
       "    }\n",
       "\n",
       "    .dataframe thead th {\n",
       "        text-align: right;\n",
       "    }\n",
       "</style>\n",
       "<table border=\"1\" class=\"dataframe\">\n",
       "  <thead>\n",
       "    <tr style=\"text-align: right;\">\n",
       "      <th></th>\n",
       "      <th>Bearer Id</th>\n",
       "      <th>Dur. (ms).1</th>\n",
       "      <th>total DL_UL data</th>\n",
       "      <th>eng_point</th>\n",
       "      <th>cluster</th>\n",
       "    </tr>\n",
       "    <tr>\n",
       "      <th>MSISDN/Number</th>\n",
       "      <th></th>\n",
       "      <th></th>\n",
       "      <th></th>\n",
       "      <th></th>\n",
       "      <th></th>\n",
       "    </tr>\n",
       "  </thead>\n",
       "  <tbody>\n",
       "    <tr>\n",
       "      <th>3.360100e+10</th>\n",
       "      <td>1</td>\n",
       "      <td>116720140.0</td>\n",
       "      <td>8.786906e+08</td>\n",
       "      <td>8.864089e+08</td>\n",
       "      <td>1</td>\n",
       "    </tr>\n",
       "    <tr>\n",
       "      <th>3.360100e+10</th>\n",
       "      <td>1</td>\n",
       "      <td>181230963.0</td>\n",
       "      <td>1.568596e+08</td>\n",
       "      <td>2.396865e+08</td>\n",
       "      <td>1</td>\n",
       "    </tr>\n",
       "    <tr>\n",
       "      <th>3.360100e+10</th>\n",
       "      <td>1</td>\n",
       "      <td>134969374.0</td>\n",
       "      <td>5.959665e+08</td>\n",
       "      <td>6.110587e+08</td>\n",
       "      <td>1</td>\n",
       "    </tr>\n",
       "    <tr>\n",
       "      <th>3.360101e+10</th>\n",
       "      <td>1</td>\n",
       "      <td>49878024.0</td>\n",
       "      <td>4.223207e+08</td>\n",
       "      <td>4.252559e+08</td>\n",
       "      <td>1</td>\n",
       "    </tr>\n",
       "    <tr>\n",
       "      <th>3.360101e+10</th>\n",
       "      <td>2</td>\n",
       "      <td>37104453.0</td>\n",
       "      <td>1.457411e+09</td>\n",
       "      <td>1.457883e+09</td>\n",
       "      <td>0</td>\n",
       "    </tr>\n",
       "  </tbody>\n",
       "</table>\n",
       "</div>"
      ],
      "text/plain": [
       "               Bearer Id  Dur. (ms).1  total DL_UL data     eng_point  cluster\n",
       "MSISDN/Number                                                                 \n",
       "3.360100e+10           1  116720140.0      8.786906e+08  8.864089e+08        1\n",
       "3.360100e+10           1  181230963.0      1.568596e+08  2.396865e+08        1\n",
       "3.360100e+10           1  134969374.0      5.959665e+08  6.110587e+08        1\n",
       "3.360101e+10           1   49878024.0      4.223207e+08  4.252559e+08        1\n",
       "3.360101e+10           2   37104453.0      1.457411e+09  1.457883e+09        0"
      ]
     },
     "execution_count": 212,
     "metadata": {},
     "output_type": "execute_result"
    }
   ],
   "source": [
    "df_engage.head()"
   ]
  },
  {
   "cell_type": "markdown",
   "metadata": {},
   "source": [
    "Experience Score"
   ]
  },
  {
   "cell_type": "code",
   "execution_count": 220,
   "metadata": {},
   "outputs": [
    {
     "data": {
      "text/html": [
       "<div>\n",
       "<style scoped>\n",
       "    .dataframe tbody tr th:only-of-type {\n",
       "        vertical-align: middle;\n",
       "    }\n",
       "\n",
       "    .dataframe tbody tr th {\n",
       "        vertical-align: top;\n",
       "    }\n",
       "\n",
       "    .dataframe thead th {\n",
       "        text-align: right;\n",
       "    }\n",
       "</style>\n",
       "<table border=\"1\" class=\"dataframe\">\n",
       "  <thead>\n",
       "    <tr style=\"text-align: right;\">\n",
       "      <th></th>\n",
       "      <th>cluster</th>\n",
       "    </tr>\n",
       "    <tr>\n",
       "      <th>cluster</th>\n",
       "      <th></th>\n",
       "    </tr>\n",
       "  </thead>\n",
       "  <tbody>\n",
       "    <tr>\n",
       "      <th>0</th>\n",
       "      <td>95639</td>\n",
       "    </tr>\n",
       "    <tr>\n",
       "      <th>2</th>\n",
       "      <td>10988</td>\n",
       "    </tr>\n",
       "    <tr>\n",
       "      <th>1</th>\n",
       "      <td>229</td>\n",
       "    </tr>\n",
       "  </tbody>\n",
       "</table>\n",
       "</div>"
      ],
      "text/plain": [
       "         cluster\n",
       "cluster         \n",
       "0          95639\n",
       "2          10988\n",
       "1            229"
      ]
     },
     "execution_count": 220,
     "metadata": {},
     "output_type": "execute_result"
    }
   ],
   "source": [
    "#to determine the less engaged cluster\n",
    "df_experience.groupby(['cluster'], sort=False).agg({'cluster':'count'})"
   ]
  },
  {
   "cell_type": "code",
   "execution_count": 221,
   "metadata": {},
   "outputs": [
    {
     "data": {
      "text/plain": [
       "array([ 3.03244178,  0.28844719, 19.06968629])"
      ]
     },
     "execution_count": 221,
     "metadata": {},
     "output_type": "execute_result"
    }
   ],
   "source": [
    "#with cluster three being the least engaged cluster\n",
    "cluster_mean_exp = centroids_exp[1]\n",
    "cluster_mean_exp"
   ]
  },
  {
   "cell_type": "code",
   "execution_count": 253,
   "metadata": {},
   "outputs": [],
   "source": [
    "#to determine engagement score\n",
    "df_experience['exp_point'] = (((df_experience[\"total Avg Bearer TP\"] - cluster_mean_exp[0]) ** 2) + ((df_experience[\"total Avg RTT\"] - cluster_mean_exp[1]) ** 2) + \n",
    "                                     ((df_experience[\"total TCP Retrans\"] - cluster_mean_exp[2]) ** 2)) ** .5"
   ]
  },
  {
   "cell_type": "code",
   "execution_count": 254,
   "metadata": {},
   "outputs": [
    {
     "data": {
      "text/html": [
       "<div>\n",
       "<style scoped>\n",
       "    .dataframe tbody tr th:only-of-type {\n",
       "        vertical-align: middle;\n",
       "    }\n",
       "\n",
       "    .dataframe tbody tr th {\n",
       "        vertical-align: top;\n",
       "    }\n",
       "\n",
       "    .dataframe thead th {\n",
       "        text-align: right;\n",
       "    }\n",
       "</style>\n",
       "<table border=\"1\" class=\"dataframe\">\n",
       "  <thead>\n",
       "    <tr style=\"text-align: right;\">\n",
       "      <th></th>\n",
       "      <th>total Avg Bearer TP</th>\n",
       "      <th>total Avg RTT</th>\n",
       "      <th>total TCP Retrans</th>\n",
       "      <th>cluster</th>\n",
       "      <th>eng_point</th>\n",
       "      <th>exp_point</th>\n",
       "    </tr>\n",
       "    <tr>\n",
       "      <th>MSISDN/Number</th>\n",
       "      <th></th>\n",
       "      <th></th>\n",
       "      <th></th>\n",
       "      <th></th>\n",
       "      <th></th>\n",
       "      <th></th>\n",
       "    </tr>\n",
       "  </thead>\n",
       "  <tbody>\n",
       "    <tr>\n",
       "      <th>3.360100e+10</th>\n",
       "      <td>76.0</td>\n",
       "      <td>46.000000</td>\n",
       "      <td>2.165043e+07</td>\n",
       "      <td>0</td>\n",
       "      <td>2.165041e+07</td>\n",
       "      <td>2.165041e+07</td>\n",
       "    </tr>\n",
       "    <tr>\n",
       "      <th>3.360100e+10</th>\n",
       "      <td>99.0</td>\n",
       "      <td>31.000000</td>\n",
       "      <td>2.165043e+07</td>\n",
       "      <td>0</td>\n",
       "      <td>2.165041e+07</td>\n",
       "      <td>2.165041e+07</td>\n",
       "    </tr>\n",
       "    <tr>\n",
       "      <th>3.360100e+10</th>\n",
       "      <td>97.0</td>\n",
       "      <td>125.861976</td>\n",
       "      <td>2.165043e+07</td>\n",
       "      <td>0</td>\n",
       "      <td>2.165041e+07</td>\n",
       "      <td>2.165041e+07</td>\n",
       "    </tr>\n",
       "    <tr>\n",
       "      <th>3.360101e+10</th>\n",
       "      <td>248.0</td>\n",
       "      <td>84.000000</td>\n",
       "      <td>7.673135e+05</td>\n",
       "      <td>0</td>\n",
       "      <td>7.672945e+05</td>\n",
       "      <td>7.672945e+05</td>\n",
       "    </tr>\n",
       "    <tr>\n",
       "      <th>3.360101e+10</th>\n",
       "      <td>56844.0</td>\n",
       "      <td>119.000000</td>\n",
       "      <td>3.102126e+07</td>\n",
       "      <td>0</td>\n",
       "      <td>3.102130e+07</td>\n",
       "      <td>3.102130e+07</td>\n",
       "    </tr>\n",
       "  </tbody>\n",
       "</table>\n",
       "</div>"
      ],
      "text/plain": [
       "               total Avg Bearer TP  total Avg RTT  total TCP Retrans  cluster  \\\n",
       "MSISDN/Number                                                                   \n",
       "3.360100e+10                  76.0      46.000000       2.165043e+07        0   \n",
       "3.360100e+10                  99.0      31.000000       2.165043e+07        0   \n",
       "3.360100e+10                  97.0     125.861976       2.165043e+07        0   \n",
       "3.360101e+10                 248.0      84.000000       7.673135e+05        0   \n",
       "3.360101e+10               56844.0     119.000000       3.102126e+07        0   \n",
       "\n",
       "                  eng_point     exp_point  \n",
       "MSISDN/Number                              \n",
       "3.360100e+10   2.165041e+07  2.165041e+07  \n",
       "3.360100e+10   2.165041e+07  2.165041e+07  \n",
       "3.360100e+10   2.165041e+07  2.165041e+07  \n",
       "3.360101e+10   7.672945e+05  7.672945e+05  \n",
       "3.360101e+10   3.102130e+07  3.102130e+07  "
      ]
     },
     "execution_count": 254,
     "metadata": {},
     "output_type": "execute_result"
    }
   ],
   "source": [
    "df_experience.head()"
   ]
  },
  {
   "cell_type": "code",
   "execution_count": null,
   "metadata": {},
   "outputs": [],
   "source": []
  },
  {
   "cell_type": "markdown",
   "metadata": {},
   "source": [
    "Satisfaction Score"
   ]
  },
  {
   "cell_type": "code",
   "execution_count": 277,
   "metadata": {},
   "outputs": [
    {
     "data": {
      "text/html": [
       "<div>\n",
       "<style scoped>\n",
       "    .dataframe tbody tr th:only-of-type {\n",
       "        vertical-align: middle;\n",
       "    }\n",
       "\n",
       "    .dataframe tbody tr th {\n",
       "        vertical-align: top;\n",
       "    }\n",
       "\n",
       "    .dataframe thead th {\n",
       "        text-align: right;\n",
       "    }\n",
       "</style>\n",
       "<table border=\"1\" class=\"dataframe\">\n",
       "  <thead>\n",
       "    <tr style=\"text-align: right;\">\n",
       "      <th></th>\n",
       "      <th>eng_point</th>\n",
       "      <th>exp_point</th>\n",
       "      <th>satisfaction_score</th>\n",
       "    </tr>\n",
       "    <tr>\n",
       "      <th>MSISDN/Number</th>\n",
       "      <th></th>\n",
       "      <th></th>\n",
       "      <th></th>\n",
       "    </tr>\n",
       "  </thead>\n",
       "  <tbody>\n",
       "    <tr>\n",
       "      <th>3.362578e+10</th>\n",
       "      <td>2.040798e+10</td>\n",
       "      <td>2.631796e+08</td>\n",
       "      <td>1.033558e+10</td>\n",
       "    </tr>\n",
       "    <tr>\n",
       "      <th>3.361489e+10</th>\n",
       "      <td>1.332647e+10</td>\n",
       "      <td>1.349167e+08</td>\n",
       "      <td>6.730696e+09</td>\n",
       "    </tr>\n",
       "    <tr>\n",
       "      <th>3.376054e+10</th>\n",
       "      <td>1.259402e+10</td>\n",
       "      <td>2.510154e+08</td>\n",
       "      <td>6.422519e+09</td>\n",
       "    </tr>\n",
       "    <tr>\n",
       "      <th>3.362632e+10</th>\n",
       "      <td>1.186750e+10</td>\n",
       "      <td>2.377329e+08</td>\n",
       "      <td>6.052619e+09</td>\n",
       "    </tr>\n",
       "    <tr>\n",
       "      <th>3.366773e+10</th>\n",
       "      <td>2.247399e+09</td>\n",
       "      <td>8.354209e+09</td>\n",
       "      <td>5.300804e+09</td>\n",
       "    </tr>\n",
       "    <tr>\n",
       "      <th>3.366716e+10</th>\n",
       "      <td>1.039423e+10</td>\n",
       "      <td>3.271701e+07</td>\n",
       "      <td>5.213473e+09</td>\n",
       "    </tr>\n",
       "    <tr>\n",
       "      <th>3.365908e+10</th>\n",
       "      <td>1.673032e+09</td>\n",
       "      <td>7.941860e+09</td>\n",
       "      <td>4.807446e+09</td>\n",
       "    </tr>\n",
       "    <tr>\n",
       "      <th>3.366098e+10</th>\n",
       "      <td>2.212203e+09</td>\n",
       "      <td>7.374905e+09</td>\n",
       "      <td>4.793554e+09</td>\n",
       "    </tr>\n",
       "    <tr>\n",
       "      <th>3.367588e+10</th>\n",
       "      <td>9.270768e+09</td>\n",
       "      <td>1.678384e+08</td>\n",
       "      <td>4.719303e+09</td>\n",
       "    </tr>\n",
       "    <tr>\n",
       "      <th>3.376264e+10</th>\n",
       "      <td>3.291414e+09</td>\n",
       "      <td>5.879989e+09</td>\n",
       "      <td>4.585702e+09</td>\n",
       "    </tr>\n",
       "  </tbody>\n",
       "</table>\n",
       "</div>"
      ],
      "text/plain": [
       "                  eng_point     exp_point  satisfaction_score\n",
       "MSISDN/Number                                                \n",
       "3.362578e+10   2.040798e+10  2.631796e+08        1.033558e+10\n",
       "3.361489e+10   1.332647e+10  1.349167e+08        6.730696e+09\n",
       "3.376054e+10   1.259402e+10  2.510154e+08        6.422519e+09\n",
       "3.362632e+10   1.186750e+10  2.377329e+08        6.052619e+09\n",
       "3.366773e+10   2.247399e+09  8.354209e+09        5.300804e+09\n",
       "3.366716e+10   1.039423e+10  3.271701e+07        5.213473e+09\n",
       "3.365908e+10   1.673032e+09  7.941860e+09        4.807446e+09\n",
       "3.366098e+10   2.212203e+09  7.374905e+09        4.793554e+09\n",
       "3.367588e+10   9.270768e+09  1.678384e+08        4.719303e+09\n",
       "3.376264e+10   3.291414e+09  5.879989e+09        4.585702e+09"
      ]
     },
     "execution_count": 277,
     "metadata": {},
     "output_type": "execute_result"
    }
   ],
   "source": [
    "score = pd.concat([df_engage['eng_point'], df_experience['exp_point']], axis=1)\n",
    "\n",
    "#satisfaction score\n",
    "score['satisfaction_score'] = (score['eng_point']+score['exp_point'])/2\n",
    "score.sort_values('satisfaction_score', ascending=False).head(10)"
   ]
  },
  {
   "cell_type": "code",
   "execution_count": 262,
   "metadata": {},
   "outputs": [
    {
     "name": "stdout",
     "output_type": "stream",
     "text": [
      "The satisfaction score is:  [5.00000298]\n"
     ]
    }
   ],
   "source": [
    "from sklearn.linear_model import LinearRegression\n",
    "regr = LinearRegression()\n",
    "into = score[[\"eng_point\",\"exp_point\"]]\n",
    "out = score[\"satisfaction_score\"]\n",
    "regr.fit(into,out)\n",
    "print ('The satisfaction score is: ', regr.predict([[5,5]]))\n"
   ]
  },
  {
   "cell_type": "code",
   "execution_count": null,
   "metadata": {},
   "outputs": [],
   "source": []
  }
 ],
 "metadata": {
  "colab": {
   "authorship_tag": "ABX9TyOZHRN8+ZZuiASfTApN2IY3",
   "collapsed_sections": [],
   "name": "Copy of week3_interimipynb",
   "provenance": [
    {
     "file_id": "1OSVfNa7wWUuH-8R91p5eSVx55bNS4zDH",
     "timestamp": 1596181808433
    }
   ]
  },
  "kernelspec": {
   "display_name": "Python 3",
   "language": "python",
   "name": "python3"
  },
  "language_info": {
   "codemirror_mode": {
    "name": "ipython",
    "version": 3
   },
   "file_extension": ".py",
   "mimetype": "text/x-python",
   "name": "python",
   "nbconvert_exporter": "python",
   "pygments_lexer": "ipython3",
   "version": "3.7.3"
  }
 },
 "nbformat": 4,
 "nbformat_minor": 1
}
